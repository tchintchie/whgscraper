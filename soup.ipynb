{
  "nbformat": 4,
  "nbformat_minor": 0,
  "metadata": {
    "colab": {
      "name": "soup",
      "provenance": [],
      "authorship_tag": "ABX9TyP/Rzk6JSD2hd2rVabLY1Od",
      "include_colab_link": true
    },
    "kernelspec": {
      "name": "python3",
      "display_name": "Python 3"
    }
  },
  "cells": [
    {
      "cell_type": "markdown",
      "metadata": {
        "id": "view-in-github",
        "colab_type": "text"
      },
      "source": [
        "<a href=\"https://colab.research.google.com/github/tchintchie/whgscraper/blob/master/soup.ipynb\" target=\"_parent\"><img src=\"https://colab.research.google.com/assets/colab-badge.svg\" alt=\"Open In Colab\"/></a>"
      ]
    },
    {
      "cell_type": "code",
      "metadata": {
        "id": "Hq0yRBK6bJrH",
        "colab_type": "code",
        "colab": {
          "base_uri": "https://localhost:8080/",
          "height": 71
        },
        "outputId": "39c4194f-56cd-4705-bf6a-c88364f1c2d6"
      },
      "source": [
        "from requests import get\n",
        "from requests.exceptions import RequestException\n",
        "from contextlib import closing\n",
        "from bs4 import BeautifulSoup as bs\n",
        "import pandas as pd\n",
        "import matplotlib.pyplot as plt\n",
        "import seaborn as sns\n",
        "%matplotlib inline"
      ],
      "execution_count": 292,
      "outputs": [
        {
          "output_type": "stream",
          "text": [
            "/usr/local/lib/python3.6/dist-packages/statsmodels/tools/_testing.py:19: FutureWarning: pandas.util.testing is deprecated. Use the functions in the public API at pandas.testing instead.\n",
            "  import pandas.util.testing as tm\n"
          ],
          "name": "stderr"
        }
      ]
    },
    {
      "cell_type": "code",
      "metadata": {
        "id": "Jm0MnM6bcyJm",
        "colab_type": "code",
        "colab": {}
      },
      "source": [
        "def simple_get(url):\n",
        "    \"\"\"\n",
        "    Attempts to get the content at `url` by making an HTTP GET request.\n",
        "    If the content-type of response is some kind of HTML/XML, return the\n",
        "    text content, otherwise return None.\n",
        "    \"\"\"\n",
        "    try:\n",
        "        with closing(get(url, stream=True)) as resp:\n",
        "            if is_good_response(resp):\n",
        "                return resp.content\n",
        "            else:\n",
        "                return None\n",
        "\n",
        "    except RequestException as e:\n",
        "        log_error(f'Error during requests to {url} : {str(e)}')\n",
        "        return None"
      ],
      "execution_count": 169,
      "outputs": []
    },
    {
      "cell_type": "code",
      "metadata": {
        "id": "3hL_3uHQdFNM",
        "colab_type": "code",
        "colab": {}
      },
      "source": [
        "\n",
        "def is_good_response(resp):\n",
        "    \"\"\"\n",
        "    Returns True if the response seems to be HTML, False otherwise.\n",
        "    \"\"\"\n",
        "    content_type = resp.headers['Content-Type'].lower()\n",
        "    return (resp.status_code == 200 \n",
        "            and content_type is not None \n",
        "            and content_type.find('html') > -1)"
      ],
      "execution_count": 170,
      "outputs": []
    },
    {
      "cell_type": "code",
      "metadata": {
        "id": "4GQJ3XJPdHEw",
        "colab_type": "code",
        "colab": {}
      },
      "source": [
        "\n",
        "def log_error(e):\n",
        "    \"\"\"\n",
        "    It is always a good idea to log errors. \n",
        "    This function just prints them, but you can\n",
        "    make it do anything.\n",
        "    \"\"\"\n",
        "    print(e)"
      ],
      "execution_count": 171,
      "outputs": []
    },
    {
      "cell_type": "code",
      "metadata": {
        "id": "NDNR8tfzdHzN",
        "colab_type": "code",
        "colab": {}
      },
      "source": [
        "url = \"https://www.oehboersen.at\"\n",
        "html = simple_get(url)"
      ],
      "execution_count": 180,
      "outputs": []
    },
    {
      "cell_type": "code",
      "metadata": {
        "id": "E574AlTodhNN",
        "colab_type": "code",
        "colab": {}
      },
      "source": [
        "oeh = bs(html, \"html5lib\")"
      ],
      "execution_count": 181,
      "outputs": []
    },
    {
      "cell_type": "code",
      "metadata": {
        "id": "V-2ccVSafA-h",
        "colab_type": "code",
        "colab": {}
      },
      "source": [
        "title = oeh.title.string"
      ],
      "execution_count": 182,
      "outputs": []
    },
    {
      "cell_type": "code",
      "metadata": {
        "id": "MVpjAf7o06-w",
        "colab_type": "code",
        "colab": {
          "base_uri": "https://localhost:8080/",
          "height": 768
        },
        "outputId": "b53c9d62-9ed5-4a55-86f6-5fabc1ca0afa"
      },
      "source": [
        "rows = oeh.find_all(\"div\", class_=\"property-content\")\n",
        "rows[0]"
      ],
      "execution_count": 183,
      "outputs": [
        {
          "output_type": "execute_result",
          "data": {
            "text/plain": [
              "<div class=\"property-content\">\n",
              "\t\t\n",
              "\t\t\t\t<div class=\"row visible-xs visible-sm\">\n",
              "\t\t\t<span class=\"type\">2-Zimmer Wohnung</span> <span>·</span> <span class=\"status\">Miete</span>\t\t</div>\n",
              "\t\t\n",
              "\t\t<div class=\"row headlines\">\n",
              "\t\t\t<a href=\"https://www.oehboersen.at/property/2-zimmer-wohnung-ueber-den-daechern-der-stadt/\" tabindex=\"0\"><h3 class=\"title col-sm-8\">2.Zimmer.Wohnung.Über den Dächern der Stadt</h3> </a>\n",
              "\t\t\t<div class=\"price-tag col-sm-4\"><h4 class=\"price text-primary\">€ 597,- <span class=\"BKInfo\">(inkl. BK)</span></h4>\n",
              "\t\t\t\t\t\t\t\t<h4 class=\"flaeche\">63 m<sup>2</sup></h4>\n",
              "\t\t\t\t\t\t\t</div>\n",
              "\t\t</div>\n",
              "\t\t\n",
              "\t\t\t\t\n",
              "\t\t<div class=\"row\">\n",
              "\t\t\t<a href=\"https://www.oehboersen.at/property/2-zimmer-wohnung-ueber-den-daechern-der-stadt/\"><h4 class=\"address col-sm-8\"><strong>Altstadt</strong><br/><br/></h4></a>\n",
              "\t\t\t\n",
              "\t\t</div>\n",
              "\t\t\n",
              "\n",
              "\t\t\t\n",
              "\t\t\t\t<div class=\"property-meta clearfix\">\n",
              "\t\t\t\t\t\t\t<div>\n",
              "\t\t\t\t\t<div class=\"meta-title\"><i class=\"fa fa-expand\"></i></div>\n",
              "\t\t\t\t\t<div class=\"meta-data\" data-toggle=\"tooltip\" title=\"Fläche des Mietgegenstandes\">63 m<sup>2</sup></div>\n",
              "\t\t\t\t</div>\n",
              "\t\t\t\t\t\t\t<div>\n",
              "\t\t\t\t\t<div class=\"meta-title\"><i class=\"fa fa-calendar\"></i></div>\n",
              "\t\t\t\t\t<div class=\"meta-data\" data-toggle=\"tooltip\" title=\"Beziehbar ab\">ab sofort</div>\n",
              "\t\t\t\t</div>\n",
              "\t\t\t\t\t</div>\n",
              "\t\t\t\t\n",
              "\t\t<div class=\"property-price\">\n",
              "\t\t\t<span class=\"property-status\" data-toggle=\"tooltip\" title=\"Status\">Miete</span>\t\t\t\t<div class=\"share-unit\" data-toggle=\"tooltip\" style=\"display: none;\" title=\"Teilen\">\n",
              "\t\t\t\t\t<a class=\"social-facebook\" href=\"http://www.facebook.com/sharer.php?u=https%3A%2F%2Fwww.oehboersen.at%2Fproperty%2F2-zimmer-wohnung-ueber-den-daechern-der-stadt%2F&amp;t=2.Zimmer.Wohnung.%C3%9Cber+den+D%C3%A4chern+der+Stadt\" target=\"_blank\"><i class=\"fa fa-facebook\"></i></a>\n",
              "\t\t\t\t\t<a class=\"social-twitter\" href=\"http://twitter.com/home?status=2.Zimmer.Wohnung.%C3%9Cber+den+D%C3%A4chern+der+Stadt+https%3A%2F%2Fwww.oehboersen.at%2Fproperty%2F2-zimmer-wohnung-ueber-den-daechern-der-stadt%2F\" target=\"_blank\"><i class=\"fa fa-twitter\"></i></a>\n",
              "\t\t\t\t\t<a class=\"social-google\" href=\"https://plus.google.com/share?url=https://www.oehboersen.at/property/2-zimmer-wohnung-ueber-den-daechern-der-stadt/\" onclick=\"javascript:window.open(this.href,'', 'menubar=no,toolbar=no,resizable=yes,scrollbars=yes,height=600,width=600');return false;\" target=\"_blank\"><i class=\"fa fa-google-plus\"></i></a> \n",
              "\t\t\t\t\t<a class=\"social-pinterest\" href=\"http://pinterest.com/pin/create/button/?url=https://www.oehboersen.at/property/2-zimmer-wohnung-ueber-den-daechern-der-stadt/&amp;description=https%3A%2F%2Fwww.oehboersen.at%2Fproperty%2F2-zimmer-wohnung-ueber-den-daechern-der-stadt%2F\" target=\"_blank\"><i class=\"fa fa-pinterest-p\"></i></a>\n",
              "\t\t\t\t</div>\n",
              "\t\t\t\t<i class=\"fa fa-share-alt share-property\" data-original-title=\"Teilen\" title=\"Teilen\"> Teilen</i>\n",
              "\t\t\t\t<i class=\"fa fa-plus compare-property\" data-compare-id=\"190328\" title=\"Vergleichen\"> Vergleichen</i> \t\t\t\n",
              "\t\t\t<div class=\"clearfix\"></div>\n",
              "\t\t</div>\n",
              "\t</div>"
            ]
          },
          "metadata": {
            "tags": []
          },
          "execution_count": 183
        }
      ]
    },
    {
      "cell_type": "code",
      "metadata": {
        "id": "rtskLKWVuL5-",
        "colab_type": "code",
        "colab": {}
      },
      "source": [
        "p = oeh.find(\"ul\",class_=\"page-numbers\")\n",
        "end = int([li.text for li in p(\"li\")][-2])"
      ],
      "execution_count": 249,
      "outputs": []
    },
    {
      "cell_type": "code",
      "metadata": {
        "id": "vdj9JrATJc84",
        "colab_type": "code",
        "colab": {}
      },
      "source": [
        "def scrape_pages():\n",
        "\n",
        "  titles = []\n",
        "  types = []\n",
        "  prices = []\n",
        "  bks = []\n",
        "  areas = []\n",
        "  \n",
        "  for i in range(1,end+1):\n",
        "    url = \"https://www.oehboersen.at/page/0\"\n",
        "    html = simple_get(url)\n",
        "    oeh = bs(html, \"html.parser\")\n",
        "    for div in oeh.find_all(\"div\",class_ = \"property-content\"):\n",
        "      title = div.find(\"h3\",class_=\"title col-sm-8\").text\n",
        "      titles.append(title)\n",
        "      type_ = div.find(\"span\", class_=\"type\").text\n",
        "      types.append(type_)\n",
        "      price=div.find(\"h4\",class_= \"price text-primary\").next\n",
        "      prices.append(price)\n",
        "      bk= div.find(\"span\", class_=\"BKInfo\").text\n",
        "      bks.append(bk)\n",
        "      if div.find(\"div\", attrs={\"title\":\"Fläche des Mietgegenstandes\"}) != None:\n",
        "        area = div.find(\"div\", attrs={\"title\":\"Fläche des Mietgegenstandes\"}).text\n",
        "      else:\n",
        "        area = \"NA\"\n",
        "      areas.append(area)\n",
        "    titles_s = pd.Series(titles, name=\"title\")\n",
        "    types_s = pd.Series(types, name = \"type\")\n",
        "    prices_s = pd.Series(prices, name=\"price\")\n",
        "    bks_s = pd.Series(bks, name = \"bk\")\n",
        "    areas_s = pd.Series(areas, name = \"area\")  \n",
        "  return pd.concat([titles_s, types_s, prices_s, bks_s, areas_s], axis = 1)"
      ],
      "execution_count": 250,
      "outputs": []
    },
    {
      "cell_type": "code",
      "metadata": {
        "id": "icekXnAknLVB",
        "colab_type": "code",
        "colab": {}
      },
      "source": [
        "all_content = scrape_pages()"
      ],
      "execution_count": 251,
      "outputs": []
    },
    {
      "cell_type": "code",
      "metadata": {
        "id": "LAu0YQXlnRz4",
        "colab_type": "code",
        "colab": {
          "base_uri": "https://localhost:8080/",
          "height": 419
        },
        "outputId": "4845b937-95b5-4a3a-aabb-0b962c5b12c8"
      },
      "source": [
        "all_content"
      ],
      "execution_count": 252,
      "outputs": [
        {
          "output_type": "execute_result",
          "data": {
            "text/html": [
              "<div>\n",
              "<style scoped>\n",
              "    .dataframe tbody tr th:only-of-type {\n",
              "        vertical-align: middle;\n",
              "    }\n",
              "\n",
              "    .dataframe tbody tr th {\n",
              "        vertical-align: top;\n",
              "    }\n",
              "\n",
              "    .dataframe thead th {\n",
              "        text-align: right;\n",
              "    }\n",
              "</style>\n",
              "<table border=\"1\" class=\"dataframe\">\n",
              "  <thead>\n",
              "    <tr style=\"text-align: right;\">\n",
              "      <th></th>\n",
              "      <th>title</th>\n",
              "      <th>type</th>\n",
              "      <th>price</th>\n",
              "      <th>bk</th>\n",
              "      <th>area</th>\n",
              "    </tr>\n",
              "  </thead>\n",
              "  <tbody>\n",
              "    <tr>\n",
              "      <th>0</th>\n",
              "      <td>2.Zimmer.Wohnung.Über den Dächern der Stadt</td>\n",
              "      <td>2-Zimmer Wohnung</td>\n",
              "      <td>€ 597,-</td>\n",
              "      <td>(inkl. BK)</td>\n",
              "      <td>63 m2</td>\n",
              "    </tr>\n",
              "    <tr>\n",
              "      <th>1</th>\n",
              "      <td>Gemütliche Bleibe in Sportlicher 3er WG</td>\n",
              "      <td>Zimmer in 3er WG</td>\n",
              "      <td>€ 280,-</td>\n",
              "      <td>(inkl. BK)</td>\n",
              "      <td>8 m2</td>\n",
              "    </tr>\n",
              "    <tr>\n",
              "      <th>2</th>\n",
              "      <td>Roomie in 5er WG</td>\n",
              "      <td>Zimmer in 5er WG</td>\n",
              "      <td>€ 430,-</td>\n",
              "      <td>(inkl. BK)</td>\n",
              "      <td>13.5 m2</td>\n",
              "    </tr>\n",
              "    <tr>\n",
              "      <th>3</th>\n",
              "      <td>Schöne 3 Zimmerwohnung in Pradl als 3er WG an ...</td>\n",
              "      <td>3-Zimmer Wohnung</td>\n",
              "      <td>€ 1200,-</td>\n",
              "      <td>(inkl. BK)</td>\n",
              "      <td>64 m2</td>\n",
              "    </tr>\n",
              "    <tr>\n",
              "      <th>4</th>\n",
              "      <td>Zwischenmiete August+September, 22qm Zimmer im...</td>\n",
              "      <td>Zimmer in 3er WG</td>\n",
              "      <td>€ 440,-</td>\n",
              "      <td>(inkl. BK)</td>\n",
              "      <td>NA</td>\n",
              "    </tr>\n",
              "    <tr>\n",
              "      <th>...</th>\n",
              "      <td>...</td>\n",
              "      <td>...</td>\n",
              "      <td>...</td>\n",
              "      <td>...</td>\n",
              "      <td>...</td>\n",
              "    </tr>\n",
              "    <tr>\n",
              "      <th>205</th>\n",
              "      <td>Schöne 2 Zimmerwohnung mit Garten in Innsbruck...</td>\n",
              "      <td>2-Zimmer Wohnung</td>\n",
              "      <td>€ 550,-</td>\n",
              "      <td>(inkl. BK)</td>\n",
              "      <td>70 m2</td>\n",
              "    </tr>\n",
              "    <tr>\n",
              "      <th>206</th>\n",
              "      <td>ZENTRALER PARKPLATZ zu vermieten!</td>\n",
              "      <td>Autoabstellplatz</td>\n",
              "      <td>€ 100,-</td>\n",
              "      <td>(inkl. BK)</td>\n",
              "      <td>NA</td>\n",
              "    </tr>\n",
              "    <tr>\n",
              "      <th>207</th>\n",
              "      <td>Sonnige 3-Zimmer-Wohnung in Kematen, WG-tauglich</td>\n",
              "      <td>3-Zimmer Wohnung</td>\n",
              "      <td>€ 1000,-</td>\n",
              "      <td>(inkl. BK)</td>\n",
              "      <td>79.09 m2</td>\n",
              "    </tr>\n",
              "    <tr>\n",
              "      <th>208</th>\n",
              "      <td>20 m² Zimmer in 3er WG nahe Westbahnhof (Wilte...</td>\n",
              "      <td>Zimmer in 3er WG</td>\n",
              "      <td>€ 435,-</td>\n",
              "      <td>(inkl. BK)</td>\n",
              "      <td>20 m2</td>\n",
              "    </tr>\n",
              "    <tr>\n",
              "      <th>209</th>\n",
              "      <td>Ich biete Privatzimmer mit Balkon, Dusche, Toi...</td>\n",
              "      <td>Zimmer in 3er WG</td>\n",
              "      <td>€ 400,-</td>\n",
              "      <td>(inkl. BK)</td>\n",
              "      <td>26 m2</td>\n",
              "    </tr>\n",
              "  </tbody>\n",
              "</table>\n",
              "<p>210 rows × 5 columns</p>\n",
              "</div>"
            ],
            "text/plain": [
              "                                                 title  ...      area\n",
              "0          2.Zimmer.Wohnung.Über den Dächern der Stadt  ...     63 m2\n",
              "1              Gemütliche Bleibe in Sportlicher 3er WG  ...      8 m2\n",
              "2                                     Roomie in 5er WG  ...   13.5 m2\n",
              "3    Schöne 3 Zimmerwohnung in Pradl als 3er WG an ...  ...     64 m2\n",
              "4    Zwischenmiete August+September, 22qm Zimmer im...  ...        NA\n",
              "..                                                 ...  ...       ...\n",
              "205  Schöne 2 Zimmerwohnung mit Garten in Innsbruck...  ...     70 m2\n",
              "206                  ZENTRALER PARKPLATZ zu vermieten!  ...        NA\n",
              "207   Sonnige 3-Zimmer-Wohnung in Kematen, WG-tauglich  ...  79.09 m2\n",
              "208  20 m² Zimmer in 3er WG nahe Westbahnhof (Wilte...  ...     20 m2\n",
              "209  Ich biete Privatzimmer mit Balkon, Dusche, Toi...  ...     26 m2\n",
              "\n",
              "[210 rows x 5 columns]"
            ]
          },
          "metadata": {
            "tags": []
          },
          "execution_count": 252
        }
      ]
    },
    {
      "cell_type": "code",
      "metadata": {
        "id": "JafIZiJqosus",
        "colab_type": "code",
        "colab": {
          "base_uri": "https://localhost:8080/",
          "height": 187
        },
        "outputId": "a784b178-54f2-4dbe-e435-4b6f5f67dfc2"
      },
      "source": [
        "all_content[\"type\"].value_counts()"
      ],
      "execution_count": 253,
      "outputs": [
        {
          "output_type": "execute_result",
          "data": {
            "text/plain": [
              "Zimmer in 3er WG    50\n",
              "Autoabstellplatz    30\n",
              "2-Zimmer Wohnung    30\n",
              "Zimmer in 2er WG    30\n",
              "3-Zimmer Wohnung    30\n",
              "Zimmer in 5er WG    10\n",
              "Wohnung             10\n",
              "Garçonnière         10\n",
              "Zimmer in WG        10\n",
              "Name: type, dtype: int64"
            ]
          },
          "metadata": {
            "tags": []
          },
          "execution_count": 253
        }
      ]
    },
    {
      "cell_type": "code",
      "metadata": {
        "id": "XDYLFEwG0BFW",
        "colab_type": "code",
        "colab": {
          "base_uri": "https://localhost:8080/",
          "height": 51
        },
        "outputId": "32230ca6-341e-4490-d542-8387d7c56950"
      },
      "source": [
        "all_content.bk.value_counts()"
      ],
      "execution_count": 254,
      "outputs": [
        {
          "output_type": "execute_result",
          "data": {
            "text/plain": [
              "(inkl. BK)    210\n",
              "Name: bk, dtype: int64"
            ]
          },
          "metadata": {
            "tags": []
          },
          "execution_count": 254
        }
      ]
    },
    {
      "cell_type": "code",
      "metadata": {
        "id": "clesPZmC0RTT",
        "colab_type": "code",
        "colab": {}
      },
      "source": [
        "all_content[\"price\"] = all_content.price.str.replace(\"€\",\"\").str.strip().str.replace(\",-\",\"\").str.replace(\",\",\".\").str.strip().astype(\"float\")"
      ],
      "execution_count": 265,
      "outputs": []
    },
    {
      "cell_type": "code",
      "metadata": {
        "id": "OLCiuI3Z0p83",
        "colab_type": "code",
        "colab": {}
      },
      "source": [
        "all_content[\"area\"] = all_content.area.str.replace(\"m2\",\"\").str.replace(\"NA\", \"0\").str.strip().astype(\"float\")"
      ],
      "execution_count": 278,
      "outputs": []
    },
    {
      "cell_type": "code",
      "metadata": {
        "id": "RB_h_8iJ1fuj",
        "colab_type": "code",
        "colab": {}
      },
      "source": [
        "all_content[\"type\"] = all_content[\"type\"].astype(\"category\")"
      ],
      "execution_count": 281,
      "outputs": []
    },
    {
      "cell_type": "code",
      "metadata": {
        "id": "Qi5DrI5a1z-1",
        "colab_type": "code",
        "colab": {
          "base_uri": "https://localhost:8080/",
          "height": 85
        },
        "outputId": "aa60febe-b665-4e1b-e9ff-633fba5fcfb6"
      },
      "source": [
        "all_content[\"type\"].cat.categories"
      ],
      "execution_count": 284,
      "outputs": [
        {
          "output_type": "execute_result",
          "data": {
            "text/plain": [
              "Index(['2-Zimmer Wohnung', '3-Zimmer Wohnung', 'Autoabstellplatz',\n",
              "       'Garçonnière', 'Wohnung', 'Zimmer in 2er WG', 'Zimmer in 3er WG',\n",
              "       'Zimmer in 5er WG', 'Zimmer in WG'],\n",
              "      dtype='object')"
            ]
          },
          "metadata": {
            "tags": []
          },
          "execution_count": 284
        }
      ]
    },
    {
      "cell_type": "code",
      "metadata": {
        "id": "imk3aapN3DZ8",
        "colab_type": "code",
        "colab": {
          "base_uri": "https://localhost:8080/",
          "height": 204
        },
        "outputId": "a848d4ab-70ea-4696-c79f-e65ac6c8b023"
      },
      "source": [
        "no_wg = all_content.copy()\n",
        "no_wg[\"type\"] = no_wg[\"type\"].cat.remove_categories(['Autoabstellplatz','Zimmer in 2er WG', 'Zimmer in 3er WG','Zimmer in 5er WG', 'Zimmer in WG'])\n",
        "no_wg.head()"
      ],
      "execution_count": 285,
      "outputs": [
        {
          "output_type": "execute_result",
          "data": {
            "text/html": [
              "<div>\n",
              "<style scoped>\n",
              "    .dataframe tbody tr th:only-of-type {\n",
              "        vertical-align: middle;\n",
              "    }\n",
              "\n",
              "    .dataframe tbody tr th {\n",
              "        vertical-align: top;\n",
              "    }\n",
              "\n",
              "    .dataframe thead th {\n",
              "        text-align: right;\n",
              "    }\n",
              "</style>\n",
              "<table border=\"1\" class=\"dataframe\">\n",
              "  <thead>\n",
              "    <tr style=\"text-align: right;\">\n",
              "      <th></th>\n",
              "      <th>title</th>\n",
              "      <th>type</th>\n",
              "      <th>price</th>\n",
              "      <th>bk</th>\n",
              "      <th>area</th>\n",
              "    </tr>\n",
              "  </thead>\n",
              "  <tbody>\n",
              "    <tr>\n",
              "      <th>0</th>\n",
              "      <td>2.Zimmer.Wohnung.Über den Dächern der Stadt</td>\n",
              "      <td>2-Zimmer Wohnung</td>\n",
              "      <td>597.0</td>\n",
              "      <td>(inkl. BK)</td>\n",
              "      <td>63.0</td>\n",
              "    </tr>\n",
              "    <tr>\n",
              "      <th>1</th>\n",
              "      <td>Gemütliche Bleibe in Sportlicher 3er WG</td>\n",
              "      <td>NaN</td>\n",
              "      <td>280.0</td>\n",
              "      <td>(inkl. BK)</td>\n",
              "      <td>8.0</td>\n",
              "    </tr>\n",
              "    <tr>\n",
              "      <th>2</th>\n",
              "      <td>Roomie in 5er WG</td>\n",
              "      <td>NaN</td>\n",
              "      <td>430.0</td>\n",
              "      <td>(inkl. BK)</td>\n",
              "      <td>13.5</td>\n",
              "    </tr>\n",
              "    <tr>\n",
              "      <th>3</th>\n",
              "      <td>Schöne 3 Zimmerwohnung in Pradl als 3er WG an ...</td>\n",
              "      <td>3-Zimmer Wohnung</td>\n",
              "      <td>1200.0</td>\n",
              "      <td>(inkl. BK)</td>\n",
              "      <td>64.0</td>\n",
              "    </tr>\n",
              "    <tr>\n",
              "      <th>4</th>\n",
              "      <td>Zwischenmiete August+September, 22qm Zimmer im...</td>\n",
              "      <td>NaN</td>\n",
              "      <td>440.0</td>\n",
              "      <td>(inkl. BK)</td>\n",
              "      <td>0.0</td>\n",
              "    </tr>\n",
              "  </tbody>\n",
              "</table>\n",
              "</div>"
            ],
            "text/plain": [
              "                                               title  ...  area\n",
              "0        2.Zimmer.Wohnung.Über den Dächern der Stadt  ...  63.0\n",
              "1            Gemütliche Bleibe in Sportlicher 3er WG  ...   8.0\n",
              "2                                   Roomie in 5er WG  ...  13.5\n",
              "3  Schöne 3 Zimmerwohnung in Pradl als 3er WG an ...  ...  64.0\n",
              "4  Zwischenmiete August+September, 22qm Zimmer im...  ...   0.0\n",
              "\n",
              "[5 rows x 5 columns]"
            ]
          },
          "metadata": {
            "tags": []
          },
          "execution_count": 285
        }
      ]
    },
    {
      "cell_type": "code",
      "metadata": {
        "id": "qQ1vYxL532aL",
        "colab_type": "code",
        "colab": {
          "base_uri": "https://localhost:8080/",
          "height": 221
        },
        "outputId": "6daba507-dc43-41e5-9cdf-a77c26a4c6fb"
      },
      "source": [
        "no_wg.info()"
      ],
      "execution_count": 286,
      "outputs": [
        {
          "output_type": "stream",
          "text": [
            "<class 'pandas.core.frame.DataFrame'>\n",
            "RangeIndex: 210 entries, 0 to 209\n",
            "Data columns (total 5 columns):\n",
            " #   Column  Non-Null Count  Dtype   \n",
            "---  ------  --------------  -----   \n",
            " 0   title   210 non-null    object  \n",
            " 1   type    80 non-null     category\n",
            " 2   price   210 non-null    float64 \n",
            " 3   bk      210 non-null    object  \n",
            " 4   area    210 non-null    float64 \n",
            "dtypes: category(1), float64(2), object(2)\n",
            "memory usage: 7.1+ KB\n"
          ],
          "name": "stdout"
        }
      ]
    },
    {
      "cell_type": "code",
      "metadata": {
        "id": "RVyCKkR135nz",
        "colab_type": "code",
        "colab": {}
      },
      "source": [
        "no_wg.dropna(axis = 0, inplace=True)"
      ],
      "execution_count": 288,
      "outputs": []
    },
    {
      "cell_type": "code",
      "metadata": {
        "id": "XeCFI4Og3_7g",
        "colab_type": "code",
        "colab": {
          "base_uri": "https://localhost:8080/",
          "height": 221
        },
        "outputId": "18dff019-c1f3-4e21-b836-42c71cceec5e"
      },
      "source": [
        "no_wg.info()"
      ],
      "execution_count": 289,
      "outputs": [
        {
          "output_type": "stream",
          "text": [
            "<class 'pandas.core.frame.DataFrame'>\n",
            "Int64Index: 80 entries, 0 to 207\n",
            "Data columns (total 5 columns):\n",
            " #   Column  Non-Null Count  Dtype   \n",
            "---  ------  --------------  -----   \n",
            " 0   title   80 non-null     object  \n",
            " 1   type    80 non-null     category\n",
            " 2   price   80 non-null     float64 \n",
            " 3   bk      80 non-null     object  \n",
            " 4   area    80 non-null     float64 \n",
            "dtypes: category(1), float64(2), object(2)\n",
            "memory usage: 3.4+ KB\n"
          ],
          "name": "stdout"
        }
      ]
    },
    {
      "cell_type": "code",
      "metadata": {
        "id": "X8D9tye94Gsm",
        "colab_type": "code",
        "colab": {
          "base_uri": "https://localhost:8080/",
          "height": 297
        },
        "outputId": "be266843-bcc4-419e-8c83-384068786feb"
      },
      "source": [
        "no_wg.describe()"
      ],
      "execution_count": 291,
      "outputs": [
        {
          "output_type": "execute_result",
          "data": {
            "text/html": [
              "<div>\n",
              "<style scoped>\n",
              "    .dataframe tbody tr th:only-of-type {\n",
              "        vertical-align: middle;\n",
              "    }\n",
              "\n",
              "    .dataframe tbody tr th {\n",
              "        vertical-align: top;\n",
              "    }\n",
              "\n",
              "    .dataframe thead th {\n",
              "        text-align: right;\n",
              "    }\n",
              "</style>\n",
              "<table border=\"1\" class=\"dataframe\">\n",
              "  <thead>\n",
              "    <tr style=\"text-align: right;\">\n",
              "      <th></th>\n",
              "      <th>price</th>\n",
              "      <th>area</th>\n",
              "    </tr>\n",
              "  </thead>\n",
              "  <tbody>\n",
              "    <tr>\n",
              "      <th>count</th>\n",
              "      <td>80.000000</td>\n",
              "      <td>80.00000</td>\n",
              "    </tr>\n",
              "    <tr>\n",
              "      <th>mean</th>\n",
              "      <td>868.375000</td>\n",
              "      <td>56.01125</td>\n",
              "    </tr>\n",
              "    <tr>\n",
              "      <th>std</th>\n",
              "      <td>264.122113</td>\n",
              "      <td>19.11374</td>\n",
              "    </tr>\n",
              "    <tr>\n",
              "      <th>min</th>\n",
              "      <td>550.000000</td>\n",
              "      <td>17.00000</td>\n",
              "    </tr>\n",
              "    <tr>\n",
              "      <th>25%</th>\n",
              "      <td>599.250000</td>\n",
              "      <td>50.00000</td>\n",
              "    </tr>\n",
              "    <tr>\n",
              "      <th>50%</th>\n",
              "      <td>860.000000</td>\n",
              "      <td>63.50000</td>\n",
              "    </tr>\n",
              "    <tr>\n",
              "      <th>75%</th>\n",
              "      <td>1110.000000</td>\n",
              "      <td>66.25000</td>\n",
              "    </tr>\n",
              "    <tr>\n",
              "      <th>max</th>\n",
              "      <td>1200.000000</td>\n",
              "      <td>79.09000</td>\n",
              "    </tr>\n",
              "  </tbody>\n",
              "</table>\n",
              "</div>"
            ],
            "text/plain": [
              "             price      area\n",
              "count    80.000000  80.00000\n",
              "mean    868.375000  56.01125\n",
              "std     264.122113  19.11374\n",
              "min     550.000000  17.00000\n",
              "25%     599.250000  50.00000\n",
              "50%     860.000000  63.50000\n",
              "75%    1110.000000  66.25000\n",
              "max    1200.000000  79.09000"
            ]
          },
          "metadata": {
            "tags": []
          },
          "execution_count": 291
        }
      ]
    },
    {
      "cell_type": "code",
      "metadata": {
        "id": "WSAQ2CkQ4LOp",
        "colab_type": "code",
        "colab": {
          "base_uri": "https://localhost:8080/",
          "height": 279
        },
        "outputId": "3baf04a2-0477-40c0-cf38-3cd45a17c52a"
      },
      "source": [
        "sns.distplot(no_wg.price)\n",
        "plt.show()"
      ],
      "execution_count": 297,
      "outputs": [
        {
          "output_type": "display_data",
          "data": {
            "image/png": "[encoded data removed]",
            "text/plain": [
              "<Figure size 432x288 with 1 Axes>"
            ]
          },
          "metadata": {
            "tags": [],
            "needs_background": "light"
          }
        }
      ]
    },
    {
      "cell_type": "code",
      "metadata": {
        "id": "K3tCiwQQ4mk3",
        "colab_type": "code",
        "colab": {
          "base_uri": "https://localhost:8080/",
          "height": 279
        },
        "outputId": "4731ed2b-0bff-4c16-fc3e-9e8ba69b8305"
      },
      "source": [
        "sns.distplot(no_wg.area)\n",
        "plt.show()"
      ],
      "execution_count": 298,
      "outputs": [
        {
          "output_type": "display_data",
          "data": {
            "image/png": "[encoded data removed]",
            "text/plain": [
              "<Figure size 432x288 with 1 Axes>"
            ]
          },
          "metadata": {
            "tags": [],
            "needs_background": "light"
          }
        }
      ]
    },
    {
      "cell_type": "code",
      "metadata": {
        "id": "o1kIyuUL4-Tf",
        "colab_type": "code",
        "colab": {}
      },
      "source": [
        "groups = no_wg.groupby(by=\"type\").mean()"
      ],
      "execution_count": 299,
      "outputs": []
    },
    {
      "cell_type": "code",
      "metadata": {
        "id": "J4-f2ZSd5SN7",
        "colab_type": "code",
        "colab": {
          "base_uri": "https://localhost:8080/",
          "height": 279
        },
        "outputId": "d90edfbe-eed7-4518-cc12-ec196c20210c"
      },
      "source": [
        "sns.barplot(x = no_wg.area, y = no_wg.price, hue = no_wg[\"type\"])\n",
        "plt.show()"
      ],
      "execution_count": 306,
      "outputs": [
        {
          "output_type": "display_data",
          "data": {
            "image/png": "[encoded data removed]",
            "text/plain": [
              "<Figure size 432x288 with 1 Axes>"
            ]
          },
          "metadata": {
            "tags": [],
            "needs_background": "light"
          }
        }
      ]
    },
    {
      "cell_type": "code",
      "metadata": {
        "id": "vpeb3vDU5TFj",
        "colab_type": "code",
        "colab": {}
      },
      "source": [
        ""
      ],
      "execution_count": null,
      "outputs": []
    }
  ]
}