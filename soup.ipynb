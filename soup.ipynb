{
  "nbformat": 4,
  "nbformat_minor": 0,
  "metadata": {
    "colab": {
      "name": "soup",
      "provenance": [],
      "authorship_tag": "ABX9TyMWimhtHLsj7h/ugeMDokek",
      "include_colab_link": true
    },
    "kernelspec": {
      "name": "python3",
      "display_name": "Python 3"
    }
  },
  "cells": [
    {
      "cell_type": "markdown",
      "metadata": {
        "id": "view-in-github",
        "colab_type": "text"
      },
      "source": [
        "<a href=\"https://colab.research.google.com/github/tchintchie/whgscraper/blob/master/soup.ipynb\" target=\"_parent\"><img src=\"https://colab.research.google.com/assets/colab-badge.svg\" alt=\"Open In Colab\"/></a>"
      ]
    },
    {
      "cell_type": "code",
      "metadata": {
        "id": "Hq0yRBK6bJrH",
        "colab_type": "code",
        "colab": {}
      },
      "source": [
        "from requests import get\n",
        "from requests.exceptions import RequestException\n",
        "from contextlib import closing\n",
        "from bs4 import BeautifulSoup as bs\n",
        "import pandas as pd"
      ],
      "execution_count": 96,
      "outputs": []
    },
    {
      "cell_type": "code",
      "metadata": {
        "id": "Jm0MnM6bcyJm",
        "colab_type": "code",
        "colab": {}
      },
      "source": [
        "def simple_get(url):\n",
        "    \"\"\"\n",
        "    Attempts to get the content at `url` by making an HTTP GET request.\n",
        "    If the content-type of response is some kind of HTML/XML, return the\n",
        "    text content, otherwise return None.\n",
        "    \"\"\"\n",
        "    try:\n",
        "        with closing(get(url, stream=True)) as resp:\n",
        "            if is_good_response(resp):\n",
        "                return resp.content\n",
        "            else:\n",
        "                return None\n",
        "\n",
        "    except RequestException as e:\n",
        "        log_error(f'Error during requests to {url} : {str(e)}')\n",
        "        return None"
      ],
      "execution_count": 97,
      "outputs": []
    },
    {
      "cell_type": "code",
      "metadata": {
        "id": "3hL_3uHQdFNM",
        "colab_type": "code",
        "colab": {}
      },
      "source": [
        "\n",
        "def is_good_response(resp):\n",
        "    \"\"\"\n",
        "    Returns True if the response seems to be HTML, False otherwise.\n",
        "    \"\"\"\n",
        "    content_type = resp.headers['Content-Type'].lower()\n",
        "    return (resp.status_code == 200 \n",
        "            and content_type is not None \n",
        "            and content_type.find('html') > -1)"
      ],
      "execution_count": 98,
      "outputs": []
    },
    {
      "cell_type": "code",
      "metadata": {
        "id": "4GQJ3XJPdHEw",
        "colab_type": "code",
        "colab": {}
      },
      "source": [
        "\n",
        "def log_error(e):\n",
        "    \"\"\"\n",
        "    It is always a good idea to log errors. \n",
        "    This function just prints them, but you can\n",
        "    make it do anything.\n",
        "    \"\"\"\n",
        "    print(e)"
      ],
      "execution_count": 99,
      "outputs": []
    },
    {
      "cell_type": "code",
      "metadata": {
        "id": "NDNR8tfzdHzN",
        "colab_type": "code",
        "colab": {}
      },
      "source": [
        "url = \"https://www.oehboersen.at\"\n",
        "html = simple_get(url)"
      ],
      "execution_count": 100,
      "outputs": []
    },
    {
      "cell_type": "code",
      "metadata": {
        "id": "E574AlTodhNN",
        "colab_type": "code",
        "colab": {}
      },
      "source": [
        "oeh = bs(html, \"html5lib\")"
      ],
      "execution_count": 101,
      "outputs": []
    },
    {
      "cell_type": "code",
      "metadata": {
        "id": "V-2ccVSafA-h",
        "colab_type": "code",
        "colab": {}
      },
      "source": [
        "title = oeh.title.string"
      ],
      "execution_count": 102,
      "outputs": []
    },
    {
      "cell_type": "code",
      "metadata": {
        "id": "MVpjAf7o06-w",
        "colab_type": "code",
        "colab": {
          "base_uri": "https://localhost:8080/",
          "height": 768
        },
        "outputId": "52c357e3-7704-45cd-ffe3-4bf8bc78ed0e"
      },
      "source": [
        "rows = oeh.find_all(\"div\", class_=\"property-content\")\n",
        "rows[0]"
      ],
      "execution_count": 103,
      "outputs": [
        {
          "output_type": "execute_result",
          "data": {
            "text/plain": [
              "<div class=\"property-content\">\n",
              "\t\t\n",
              "\t\t\t\t<div class=\"row visible-xs visible-sm\">\n",
              "\t\t\t<span class=\"type\">2-Zimmer Wohnung</span> <span>·</span> <span class=\"status\">Miete</span>\t\t</div>\n",
              "\t\t\n",
              "\t\t<div class=\"row headlines\">\n",
              "\t\t\t<a href=\"https://www.oehboersen.at/property/2-zimmer-wohnung-ueber-den-daechern-der-stadt/\" tabindex=\"0\"><h3 class=\"title col-sm-8\">2.Zimmer.Wohnung.Über den Dächern der Stadt</h3> </a>\n",
              "\t\t\t<div class=\"price-tag col-sm-4\"><h4 class=\"price text-primary\">€ 597,- <span class=\"BKInfo\">(inkl. BK)</span></h4>\n",
              "\t\t\t\t\t\t\t\t<h4 class=\"flaeche\">63 m<sup>2</sup></h4>\n",
              "\t\t\t\t\t\t\t</div>\n",
              "\t\t</div>\n",
              "\t\t\n",
              "\t\t\t\t\n",
              "\t\t<div class=\"row\">\n",
              "\t\t\t<a href=\"https://www.oehboersen.at/property/2-zimmer-wohnung-ueber-den-daechern-der-stadt/\"><h4 class=\"address col-sm-8\"><strong>Altstadt</strong><br/><br/></h4></a>\n",
              "\t\t\t\n",
              "\t\t</div>\n",
              "\t\t\n",
              "\n",
              "\t\t\t\n",
              "\t\t\t\t<div class=\"property-meta clearfix\">\n",
              "\t\t\t\t\t\t\t<div>\n",
              "\t\t\t\t\t<div class=\"meta-title\"><i class=\"fa fa-expand\"></i></div>\n",
              "\t\t\t\t\t<div class=\"meta-data\" data-toggle=\"tooltip\" title=\"Fläche des Mietgegenstandes\">63 m<sup>2</sup></div>\n",
              "\t\t\t\t</div>\n",
              "\t\t\t\t\t\t\t<div>\n",
              "\t\t\t\t\t<div class=\"meta-title\"><i class=\"fa fa-calendar\"></i></div>\n",
              "\t\t\t\t\t<div class=\"meta-data\" data-toggle=\"tooltip\" title=\"Beziehbar ab\">ab sofort</div>\n",
              "\t\t\t\t</div>\n",
              "\t\t\t\t\t</div>\n",
              "\t\t\t\t\n",
              "\t\t<div class=\"property-price\">\n",
              "\t\t\t<span class=\"property-status\" data-toggle=\"tooltip\" title=\"Status\">Miete</span>\t\t\t\t<div class=\"share-unit\" data-toggle=\"tooltip\" style=\"display: none;\" title=\"Teilen\">\n",
              "\t\t\t\t\t<a class=\"social-facebook\" href=\"http://www.facebook.com/sharer.php?u=https%3A%2F%2Fwww.oehboersen.at%2Fproperty%2F2-zimmer-wohnung-ueber-den-daechern-der-stadt%2F&amp;t=2.Zimmer.Wohnung.%C3%9Cber+den+D%C3%A4chern+der+Stadt\" target=\"_blank\"><i class=\"fa fa-facebook\"></i></a>\n",
              "\t\t\t\t\t<a class=\"social-twitter\" href=\"http://twitter.com/home?status=2.Zimmer.Wohnung.%C3%9Cber+den+D%C3%A4chern+der+Stadt+https%3A%2F%2Fwww.oehboersen.at%2Fproperty%2F2-zimmer-wohnung-ueber-den-daechern-der-stadt%2F\" target=\"_blank\"><i class=\"fa fa-twitter\"></i></a>\n",
              "\t\t\t\t\t<a class=\"social-google\" href=\"https://plus.google.com/share?url=https://www.oehboersen.at/property/2-zimmer-wohnung-ueber-den-daechern-der-stadt/\" onclick=\"javascript:window.open(this.href,'', 'menubar=no,toolbar=no,resizable=yes,scrollbars=yes,height=600,width=600');return false;\" target=\"_blank\"><i class=\"fa fa-google-plus\"></i></a> \n",
              "\t\t\t\t\t<a class=\"social-pinterest\" href=\"http://pinterest.com/pin/create/button/?url=https://www.oehboersen.at/property/2-zimmer-wohnung-ueber-den-daechern-der-stadt/&amp;description=https%3A%2F%2Fwww.oehboersen.at%2Fproperty%2F2-zimmer-wohnung-ueber-den-daechern-der-stadt%2F\" target=\"_blank\"><i class=\"fa fa-pinterest-p\"></i></a>\n",
              "\t\t\t\t</div>\n",
              "\t\t\t\t<i class=\"fa fa-share-alt share-property\" data-original-title=\"Teilen\" title=\"Teilen\"> Teilen</i>\n",
              "\t\t\t\t<i class=\"fa fa-plus compare-property\" data-compare-id=\"190328\" title=\"Vergleichen\"> Vergleichen</i> \t\t\t\n",
              "\t\t\t<div class=\"clearfix\"></div>\n",
              "\t\t</div>\n",
              "\t</div>"
            ]
          },
          "metadata": {
            "tags": []
          },
          "execution_count": 103
        }
      ]
    },
    {
      "cell_type": "code",
      "metadata": {
        "id": "0jHFORYv6CzF",
        "colab_type": "code",
        "colab": {}
      },
      "source": [
        "df = pd.DataFrame()\n",
        "titles = []\n",
        "types = []\n",
        "prices = []\n",
        "bks = []\n",
        "areas = []\n",
        "for div in oeh.find_all(\"div\",class_ = \"property-content\"):\n",
        "  title = div.find(\"h3\",class_=\"title col-sm-8\").text\n",
        "  titles.append(title)\n",
        "  type_ = div.find(\"span\", class_=\"type\").text\n",
        "  types.append(type_)\n",
        "  price=div.find(\"h4\",class_= \"price text-primary\").next\n",
        "  prices.append(price)\n",
        "  bk= div.find(\"span\", class_=\"BKInfo\").text\n",
        "  bks.append(bk)\n",
        "  if div.find(\"div\", attrs={\"title\":\"Fläche des Mietgegenstandes\"}) != None:\n",
        "    area = div.find(\"div\", attrs={\"title\":\"Fläche des Mietgegenstandes\"}).text\n",
        "  else:\n",
        "    area = \"NA\"\n",
        "  areas.append(area)\n",
        "  #pd.concat(df, [title, price, bk, area])\n"
      ],
      "execution_count": 109,
      "outputs": []
    },
    {
      "cell_type": "code",
      "metadata": {
        "id": "uV6WckJJ6oe6",
        "colab_type": "code",
        "colab": {
          "base_uri": "https://localhost:8080/",
          "height": 122
        },
        "outputId": "078b39ce-af06-4dd1-ecb3-82341a903120"
      },
      "source": [
        "print(titles)\n",
        "print(types)\n",
        "print(prices)\n",
        "print(bks)\n",
        "print(areas)"
      ],
      "execution_count": 111,
      "outputs": [
        {
          "output_type": "stream",
          "text": [
            "['2.Zimmer.Wohnung.Über den Dächern der Stadt', 'Gemütliche Bleibe in Sportlicher 3er WG', 'Roomie in 5er WG', 'Schöne 3 Zimmerwohnung in Pradl als 3er WG an StudentIn  ', 'Zwischenmiete August+September, 22qm Zimmer im Saggen', '1-Zi.-Wohnung mit Westbalkon in Innsbruck', '„Zimmer in Veggi-WG ;-) in Arzl“', 'Zimmer in 2er WG fürs Wintersemester 2020/21', 'Helle 2- Zimmerwohnung mit Balkon – Uninähe', '12 qm-Zimmer im grünen Saggen (5er-WG)', 'Helle Garconniere mit Süd-Ausrichtung', 'Untervermietung einer 2-geschossigen Architekten Wohnun  ', 'Zimmer in 2er WG. MIETE', 'Tiefgaragenabstellplatz – Mariahilfpark 2', 'Tiefgaragenplatz', 'Zimmer in 2er WG', 'Schöne 2 Zimmerwohnung mit Garten in Innsbruck. Gelegen  ', 'ZENTRALER PARKPLATZ zu vermieten!', 'Sonnige 3-Zimmer-Wohnung in Kematen, WG-tauglich', '20 m² Zimmer in 3er WG nahe Westbahnhof (Wilten) ab 1.   ', 'Ich biete Privatzimmer mit Balkon, Dusche, Toilette und  ']\n",
            "['2-Zimmer Wohnung', 'Zimmer in 3er WG', 'Zimmer in 5er WG', '3-Zimmer Wohnung', 'Zimmer in 3er WG', 'Wohnung', 'Zimmer in 3er WG', 'Zimmer in 2er WG', '2-Zimmer Wohnung', 'Zimmer in WG', 'Garçonnière', '3-Zimmer Wohnung', 'Zimmer in 2er WG', 'Autoabstellplatz', 'Autoabstellplatz', 'Zimmer in 2er WG', '2-Zimmer Wohnung', 'Autoabstellplatz', '3-Zimmer Wohnung', 'Zimmer in 3er WG', 'Zimmer in 3er WG']\n",
            "['€ 597,- ', '€ 280,- ', '€ 430,- ', '€ 1200,- ', '€ 440,- ', '€ 720,- ', '€ 410,- ', '€ 480,- ', '€ 1080,- ', '€ 328,50 ', '€ 600,- ', '€ 1200,- ', '€ 500,- ', '€ 97,- ', '€ 100,00 ', '€ 481,33 ', '€ 550,- ', '€ 100,- ', '€ 1000,- ', '€ 435,- ', '€ 400,- ']\n",
            "['(inkl. BK)', '(inkl. BK)', '(inkl. BK)', '(inkl. BK)', '(inkl. BK)', '(inkl. BK)', '(inkl. BK)', '(inkl. BK)', '(inkl. BK)', '(inkl. BK)', '(inkl. BK)', '(inkl. BK)', '(inkl. BK)', '(inkl. BK)', '(inkl. BK)', '(inkl. BK)', '(inkl. BK)', '(inkl. BK)', '(inkl. BK)', '(inkl. BK)', '(inkl. BK)']\n",
            "['63 m2', '8 m2', '13.5 m2', '64 m2', 'NA', '35 m2', '18 m2', '20 m2', '55 m2', '12 m2', '17 m2', '65 m2', '64 m2', '11 m2', 'NA', '50 m2', '70 m2', 'NA', '79.09 m2', '20 m2', '26 m2']\n"
          ],
          "name": "stdout"
        }
      ]
    },
    {
      "cell_type": "code",
      "metadata": {
        "id": "XODggGqP65mU",
        "colab_type": "code",
        "colab": {}
      },
      "source": [
        "for div in oeh.find_all(\"div\",class_ = \"property-content\"):\n",
        "  preis = div.find(\"h4\").text"
      ],
      "execution_count": 106,
      "outputs": []
    },
    {
      "cell_type": "code",
      "metadata": {
        "id": "jK5QJs-O79-9",
        "colab_type": "code",
        "colab": {
          "base_uri": "https://localhost:8080/",
          "height": 37
        },
        "outputId": "d370e4a0-532f-402e-ce8d-e247516e3118"
      },
      "source": [
        "preis"
      ],
      "execution_count": 107,
      "outputs": [
        {
          "output_type": "execute_result",
          "data": {
            "application/vnd.google.colaboratory.intrinsic": {
              "type": "string"
            },
            "text/plain": [
              "'€ 400,- (inkl. BK)'"
            ]
          },
          "metadata": {
            "tags": []
          },
          "execution_count": 107
        }
      ]
    },
    {
      "cell_type": "code",
      "metadata": {
        "id": "fFXpgq868Cxl",
        "colab_type": "code",
        "colab": {
          "base_uri": "https://localhost:8080/",
          "height": 307
        },
        "outputId": "1c2a7d66-9c08-45fb-a260-306805a1c804"
      },
      "source": [
        "df = pd.DataFrame(price, bk, area)"
      ],
      "execution_count": 108,
      "outputs": [
        {
          "output_type": "error",
          "ename": "TypeError",
          "evalue": "ignored",
          "traceback": [
            "\u001b[0;31m---------------------------------------------------------------------------\u001b[0m",
            "\u001b[0;31mTypeError\u001b[0m                                 Traceback (most recent call last)",
            "\u001b[0;32m<ipython-input-108-e092ad366529>\u001b[0m in \u001b[0;36m<module>\u001b[0;34m()\u001b[0m\n\u001b[0;32m----> 1\u001b[0;31m \u001b[0mdf\u001b[0m \u001b[0;34m=\u001b[0m \u001b[0mpd\u001b[0m\u001b[0;34m.\u001b[0m\u001b[0mDataFrame\u001b[0m\u001b[0;34m(\u001b[0m\u001b[0mprice\u001b[0m\u001b[0;34m,\u001b[0m \u001b[0mbk\u001b[0m\u001b[0;34m,\u001b[0m \u001b[0marea\u001b[0m\u001b[0;34m)\u001b[0m\u001b[0;34m\u001b[0m\u001b[0;34m\u001b[0m\u001b[0m\n\u001b[0m",
            "\u001b[0;32m/usr/local/lib/python3.6/dist-packages/pandas/core/frame.py\u001b[0m in \u001b[0;36m__init__\u001b[0;34m(self, data, index, columns, dtype, copy)\u001b[0m\n\u001b[1;32m    504\u001b[0m                 )\n\u001b[1;32m    505\u001b[0m                 mgr = init_ndarray(\n\u001b[0;32m--> 506\u001b[0;31m                     \u001b[0mvalues\u001b[0m\u001b[0;34m,\u001b[0m \u001b[0mindex\u001b[0m\u001b[0;34m,\u001b[0m \u001b[0mcolumns\u001b[0m\u001b[0;34m,\u001b[0m \u001b[0mdtype\u001b[0m\u001b[0;34m=\u001b[0m\u001b[0mvalues\u001b[0m\u001b[0;34m.\u001b[0m\u001b[0mdtype\u001b[0m\u001b[0;34m,\u001b[0m \u001b[0mcopy\u001b[0m\u001b[0;34m=\u001b[0m\u001b[0;32mFalse\u001b[0m\u001b[0;34m\u001b[0m\u001b[0;34m\u001b[0m\u001b[0m\n\u001b[0m\u001b[1;32m    507\u001b[0m                 )\n\u001b[1;32m    508\u001b[0m             \u001b[0;32melse\u001b[0m\u001b[0;34m:\u001b[0m\u001b[0;34m\u001b[0m\u001b[0;34m\u001b[0m\u001b[0m\n",
            "\u001b[0;32m/usr/local/lib/python3.6/dist-packages/pandas/core/internals/construction.py\u001b[0m in \u001b[0;36minit_ndarray\u001b[0;34m(values, index, columns, dtype, copy)\u001b[0m\n\u001b[1;32m    179\u001b[0m                 ) from orig\n\u001b[1;32m    180\u001b[0m \u001b[0;34m\u001b[0m\u001b[0m\n\u001b[0;32m--> 181\u001b[0;31m     \u001b[0mindex\u001b[0m\u001b[0;34m,\u001b[0m \u001b[0mcolumns\u001b[0m \u001b[0;34m=\u001b[0m \u001b[0m_get_axes\u001b[0m\u001b[0;34m(\u001b[0m\u001b[0;34m*\u001b[0m\u001b[0mvalues\u001b[0m\u001b[0;34m.\u001b[0m\u001b[0mshape\u001b[0m\u001b[0;34m,\u001b[0m \u001b[0mindex\u001b[0m\u001b[0;34m=\u001b[0m\u001b[0mindex\u001b[0m\u001b[0;34m,\u001b[0m \u001b[0mcolumns\u001b[0m\u001b[0;34m=\u001b[0m\u001b[0mcolumns\u001b[0m\u001b[0;34m)\u001b[0m\u001b[0;34m\u001b[0m\u001b[0;34m\u001b[0m\u001b[0m\n\u001b[0m\u001b[1;32m    182\u001b[0m     \u001b[0mvalues\u001b[0m \u001b[0;34m=\u001b[0m \u001b[0mvalues\u001b[0m\u001b[0;34m.\u001b[0m\u001b[0mT\u001b[0m\u001b[0;34m\u001b[0m\u001b[0;34m\u001b[0m\u001b[0m\n\u001b[1;32m    183\u001b[0m \u001b[0;34m\u001b[0m\u001b[0m\n",
            "\u001b[0;32m/usr/local/lib/python3.6/dist-packages/pandas/core/internals/construction.py\u001b[0m in \u001b[0;36m_get_axes\u001b[0;34m(N, K, index, columns)\u001b[0m\n\u001b[1;32m    422\u001b[0m         \u001b[0mindex\u001b[0m \u001b[0;34m=\u001b[0m \u001b[0mibase\u001b[0m\u001b[0;34m.\u001b[0m\u001b[0mdefault_index\u001b[0m\u001b[0;34m(\u001b[0m\u001b[0mN\u001b[0m\u001b[0;34m)\u001b[0m\u001b[0;34m\u001b[0m\u001b[0;34m\u001b[0m\u001b[0m\n\u001b[1;32m    423\u001b[0m     \u001b[0;32melse\u001b[0m\u001b[0;34m:\u001b[0m\u001b[0;34m\u001b[0m\u001b[0;34m\u001b[0m\u001b[0m\n\u001b[0;32m--> 424\u001b[0;31m         \u001b[0mindex\u001b[0m \u001b[0;34m=\u001b[0m \u001b[0mensure_index\u001b[0m\u001b[0;34m(\u001b[0m\u001b[0mindex\u001b[0m\u001b[0;34m)\u001b[0m\u001b[0;34m\u001b[0m\u001b[0;34m\u001b[0m\u001b[0m\n\u001b[0m\u001b[1;32m    425\u001b[0m \u001b[0;34m\u001b[0m\u001b[0m\n\u001b[1;32m    426\u001b[0m     \u001b[0;32mif\u001b[0m \u001b[0mcolumns\u001b[0m \u001b[0;32mis\u001b[0m \u001b[0;32mNone\u001b[0m\u001b[0;34m:\u001b[0m\u001b[0;34m\u001b[0m\u001b[0;34m\u001b[0m\u001b[0m\n",
            "\u001b[0;32m/usr/local/lib/python3.6/dist-packages/pandas/core/indexes/base.py\u001b[0m in \u001b[0;36mensure_index\u001b[0;34m(index_like, copy)\u001b[0m\n\u001b[1;32m   5356\u001b[0m             \u001b[0mindex_like\u001b[0m \u001b[0;34m=\u001b[0m \u001b[0mcopy\u001b[0m\u001b[0;34m(\u001b[0m\u001b[0mindex_like\u001b[0m\u001b[0;34m)\u001b[0m\u001b[0;34m\u001b[0m\u001b[0;34m\u001b[0m\u001b[0m\n\u001b[1;32m   5357\u001b[0m \u001b[0;34m\u001b[0m\u001b[0m\n\u001b[0;32m-> 5358\u001b[0;31m     \u001b[0;32mreturn\u001b[0m \u001b[0mIndex\u001b[0m\u001b[0;34m(\u001b[0m\u001b[0mindex_like\u001b[0m\u001b[0;34m)\u001b[0m\u001b[0;34m\u001b[0m\u001b[0;34m\u001b[0m\u001b[0m\n\u001b[0m\u001b[1;32m   5359\u001b[0m \u001b[0;34m\u001b[0m\u001b[0m\n\u001b[1;32m   5360\u001b[0m \u001b[0;34m\u001b[0m\u001b[0m\n",
            "\u001b[0;32m/usr/local/lib/python3.6/dist-packages/pandas/core/indexes/base.py\u001b[0m in \u001b[0;36m__new__\u001b[0;34m(cls, data, dtype, copy, name, tupleize_cols, **kwargs)\u001b[0m\n\u001b[1;32m    420\u001b[0m             \u001b[0;32mreturn\u001b[0m \u001b[0mIndex\u001b[0m\u001b[0;34m(\u001b[0m\u001b[0mnp\u001b[0m\u001b[0;34m.\u001b[0m\u001b[0masarray\u001b[0m\u001b[0;34m(\u001b[0m\u001b[0mdata\u001b[0m\u001b[0;34m)\u001b[0m\u001b[0;34m,\u001b[0m \u001b[0mdtype\u001b[0m\u001b[0;34m=\u001b[0m\u001b[0mdtype\u001b[0m\u001b[0;34m,\u001b[0m \u001b[0mcopy\u001b[0m\u001b[0;34m=\u001b[0m\u001b[0mcopy\u001b[0m\u001b[0;34m,\u001b[0m \u001b[0mname\u001b[0m\u001b[0;34m=\u001b[0m\u001b[0mname\u001b[0m\u001b[0;34m,\u001b[0m \u001b[0;34m**\u001b[0m\u001b[0mkwargs\u001b[0m\u001b[0;34m)\u001b[0m\u001b[0;34m\u001b[0m\u001b[0;34m\u001b[0m\u001b[0m\n\u001b[1;32m    421\u001b[0m         \u001b[0;32melif\u001b[0m \u001b[0mdata\u001b[0m \u001b[0;32mis\u001b[0m \u001b[0;32mNone\u001b[0m \u001b[0;32mor\u001b[0m \u001b[0mis_scalar\u001b[0m\u001b[0;34m(\u001b[0m\u001b[0mdata\u001b[0m\u001b[0;34m)\u001b[0m\u001b[0;34m:\u001b[0m\u001b[0;34m\u001b[0m\u001b[0;34m\u001b[0m\u001b[0m\n\u001b[0;32m--> 422\u001b[0;31m             \u001b[0;32mraise\u001b[0m \u001b[0mcls\u001b[0m\u001b[0;34m.\u001b[0m\u001b[0m_scalar_data_error\u001b[0m\u001b[0;34m(\u001b[0m\u001b[0mdata\u001b[0m\u001b[0;34m)\u001b[0m\u001b[0;34m\u001b[0m\u001b[0;34m\u001b[0m\u001b[0m\n\u001b[0m\u001b[1;32m    423\u001b[0m         \u001b[0;32melse\u001b[0m\u001b[0;34m:\u001b[0m\u001b[0;34m\u001b[0m\u001b[0;34m\u001b[0m\u001b[0m\n\u001b[1;32m    424\u001b[0m             \u001b[0;32mif\u001b[0m \u001b[0mtupleize_cols\u001b[0m \u001b[0;32mand\u001b[0m \u001b[0mis_list_like\u001b[0m\u001b[0;34m(\u001b[0m\u001b[0mdata\u001b[0m\u001b[0;34m)\u001b[0m\u001b[0;34m:\u001b[0m\u001b[0;34m\u001b[0m\u001b[0;34m\u001b[0m\u001b[0m\n",
            "\u001b[0;31mTypeError\u001b[0m: Index(...) must be called with a collection of some kind, '(inkl. BK)' was passed"
          ]
        }
      ]
    },
    {
      "cell_type": "code",
      "metadata": {
        "id": "vdj9JrATJc84",
        "colab_type": "code",
        "colab": {}
      },
      "source": [
        ""
      ],
      "execution_count": null,
      "outputs": []
    }
  ]
}