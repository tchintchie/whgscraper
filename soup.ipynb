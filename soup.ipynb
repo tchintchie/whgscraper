{
  "nbformat": 4,
  "nbformat_minor": 0,
  "metadata": {
    "colab": {
      "name": "soup",
      "provenance": [],
      "authorship_tag": "ABX9TyM/8RPHBKPv9M1mro8BXDUe",
      "include_colab_link": true
    },
    "kernelspec": {
      "name": "python3",
      "display_name": "Python 3"
    }
  },
  "cells": [
    {
      "cell_type": "markdown",
      "metadata": {
        "id": "view-in-github",
        "colab_type": "text"
      },
      "source": [
        "<a href=\"https://colab.research.google.com/github/tchintchie/whgscraper/blob/master/soup.ipynb\" target=\"_parent\"><img src=\"https://colab.research.google.com/assets/colab-badge.svg\" alt=\"Open In Colab\"/></a>"
      ]
    },
    {
      "cell_type": "code",
      "metadata": {
        "id": "Hq0yRBK6bJrH",
        "colab_type": "code",
        "colab": {}
      },
      "source": [
        "from requests import get\n",
        "from requests.exceptions import RequestException\n",
        "from contextlib import closing\n",
        "from bs4 import BeautifulSoup as bs\n",
        "import pandas as pd\n",
        "import matplotlib.pyplot as plt\n",
        "import seaborn as sns\n",
        "import numpy as np\n",
        "%matplotlib inline"
      ],
      "execution_count": 204,
      "outputs": []
    },
    {
      "cell_type": "code",
      "metadata": {
        "id": "Jm0MnM6bcyJm",
        "colab_type": "code",
        "colab": {}
      },
      "source": [
        "def simple_get(url):\n",
        "    \"\"\"\n",
        "    Attempts to get the content at `url` by making an HTTP GET request.\n",
        "    If the content-type of response is some kind of HTML/XML, return the\n",
        "    text content, otherwise return None.\n",
        "    \"\"\"\n",
        "    try:\n",
        "        with closing(get(url, stream=True)) as resp:\n",
        "            if is_good_response(resp):\n",
        "                return resp.content\n",
        "            else:\n",
        "                return None\n",
        "\n",
        "    except RequestException as e:\n",
        "        log_error(f'Error during requests to {url} : {str(e)}')\n",
        "        return None"
      ],
      "execution_count": 205,
      "outputs": []
    },
    {
      "cell_type": "code",
      "metadata": {
        "id": "3hL_3uHQdFNM",
        "colab_type": "code",
        "colab": {}
      },
      "source": [
        "\n",
        "def is_good_response(resp):\n",
        "    \"\"\"\n",
        "    Returns True if the response seems to be HTML, False otherwise.\n",
        "    \"\"\"\n",
        "    content_type = resp.headers['Content-Type'].lower()\n",
        "    return (resp.status_code == 200 \n",
        "            and content_type is not None \n",
        "            and content_type.find('html') > -1)"
      ],
      "execution_count": 206,
      "outputs": []
    },
    {
      "cell_type": "code",
      "metadata": {
        "id": "4GQJ3XJPdHEw",
        "colab_type": "code",
        "colab": {}
      },
      "source": [
        "\n",
        "def log_error(e):\n",
        "    \"\"\"\n",
        "    It is always a good idea to log errors. \n",
        "    This function just prints them, but you can\n",
        "    make it do anything.\n",
        "    \"\"\"\n",
        "    print(e)"
      ],
      "execution_count": 207,
      "outputs": []
    },
    {
      "cell_type": "code",
      "metadata": {
        "id": "NDNR8tfzdHzN",
        "colab_type": "code",
        "colab": {}
      },
      "source": [
        "url = \"https://www.oehboersen.at\"\n",
        "html = simple_get(url)"
      ],
      "execution_count": 208,
      "outputs": []
    },
    {
      "cell_type": "code",
      "metadata": {
        "id": "E574AlTodhNN",
        "colab_type": "code",
        "colab": {}
      },
      "source": [
        "oeh = bs(html, \"html5lib\")"
      ],
      "execution_count": 209,
      "outputs": []
    },
    {
      "cell_type": "code",
      "metadata": {
        "id": "V-2ccVSafA-h",
        "colab_type": "code",
        "colab": {}
      },
      "source": [
        "title = oeh.title.string"
      ],
      "execution_count": 210,
      "outputs": []
    },
    {
      "cell_type": "code",
      "metadata": {
        "id": "MVpjAf7o06-w",
        "colab_type": "code",
        "colab": {
          "base_uri": "https://localhost:8080/",
          "height": 625
        },
        "outputId": "360afd5f-ce68-4e8c-f0b6-091a61400101"
      },
      "source": [
        "rows = oeh.find_all(\"div\", class_=\"property-content\")\n",
        "rows[0]"
      ],
      "execution_count": 211,
      "outputs": [
        {
          "output_type": "execute_result",
          "data": {
            "text/plain": [
              "<div class=\"property-content\">\n",
              "\t\t\n",
              "\t\t\t\t<div class=\"row visible-xs visible-sm\">\n",
              "\t\t\t<span class=\"type\">Sonstiges</span> <span>·</span> <span class=\"status\">Miete</span>\t\t</div>\n",
              "\t\t\n",
              "\t\t<div class=\"row headlines\">\n",
              "\t\t\t<a href=\"https://www.oehboersen.at/property/modernes-reihenhaus-in-schoener-und-zentraler-lage-in-unmittelbarer-naehe-der-bushaltestelle-in-mils-bei-hall-mit-wunderschoenem-ausblick-ab-september-zu-vermieten/\" tabindex=\"0\"><h3 class=\"title col-sm-8\">Modernes Reihenhaus in schöner und zentraler Lage in un  <i class=\"fa fa-ellipsis-h\" data-original-title=\"Modernes Reihenhaus in schöner und zentraler Lage in unmittelbarer Nähe der Bushaltestelle in Mils bei Hall mit wunderschönem Ausblick ab September zu vermieten.\" data-placement=\"bottom\" data-toggle=\"tooltip\" title=\"Modernes Reihenhaus in schöner und zentraler Lage in unmittelbarer Nähe der Bushaltestelle in Mils bei Hall mit wunderschönem Ausblick ab September zu vermieten.\"></i></h3> </a>\n",
              "\t\t\t<div class=\"price-tag col-sm-4\"><h4 class=\"price text-primary\">€ 1700,- <span class=\"BKInfo\">(inkl. BK)</span></h4>\n",
              "\t\t\t\t\t\t\t</div>\n",
              "\t\t</div>\n",
              "\t\t\n",
              "\t\t\t\t\n",
              "\t\t<div class=\"row\">\n",
              "\t\t\t<a href=\"https://www.oehboersen.at/property/modernes-reihenhaus-in-schoener-und-zentraler-lage-in-unmittelbarer-naehe-der-bushaltestelle-in-mils-bei-hall-mit-wunderschoenem-ausblick-ab-september-zu-vermieten/\"><h4 class=\"address col-sm-8\"><strong>Hall / Rum / Mils</strong><br/><br/></h4></a>\n",
              "\t\t\t\n",
              "\t\t</div>\n",
              "\t\t\n",
              "\n",
              "\t\t\t\n",
              "\t\t\t\t\n",
              "\t\t<div class=\"property-price\">\n",
              "\t\t\t<span class=\"property-status\" data-toggle=\"tooltip\" title=\"Status\">Miete</span>\t\t\t\t<div class=\"share-unit\" data-toggle=\"tooltip\" style=\"display: none;\" title=\"Teilen\">\n",
              "\t\t\t\t\t<a class=\"social-facebook\" href=\"http://www.facebook.com/sharer.php?u=https%3A%2F%2Fwww.oehboersen.at%2Fproperty%2Fmodernes-reihenhaus-in-schoener-und-zentraler-lage-in-unmittelbarer-naehe-der-bushaltestelle-in-mils-bei-hall-mit-wunderschoenem-ausblick-ab-september-zu-vermieten%2F&amp;t=Modernes+Reihenhaus+in+sch%C3%B6ner+und+zentraler+Lage+in+unmittelbarer+N%C3%A4he+der+Bushaltestelle+in+Mils+bei+Hall+mit+wundersch%C3%B6nem+Ausblick+ab+September+zu+vermieten.\" target=\"_blank\"><i class=\"fa fa-facebook\"></i></a>\n",
              "\t\t\t\t\t<a class=\"social-twitter\" href=\"http://twitter.com/home?status=Modernes+Reihenhaus+in+sch%C3%B6ner+und+zentraler+Lage+in+unmittelbarer+N%C3%A4he+der+Bushaltestelle+in+Mils+bei+Hall+mit+wundersch%C3%B6nem+Ausblick+ab+September+zu+vermieten.+https%3A%2F%2Fwww.oehboersen.at%2Fproperty%2Fmodernes-reihenhaus-in-schoener-und-zentraler-lage-in-unmittelbarer-naehe-der-bushaltestelle-in-mils-bei-hall-mit-wunderschoenem-ausblick-ab-september-zu-vermieten%2F\" target=\"_blank\"><i class=\"fa fa-twitter\"></i></a>\n",
              "\t\t\t\t\t<a class=\"social-google\" href=\"https://plus.google.com/share?url=https://www.oehboersen.at/property/modernes-reihenhaus-in-schoener-und-zentraler-lage-in-unmittelbarer-naehe-der-bushaltestelle-in-mils-bei-hall-mit-wunderschoenem-ausblick-ab-september-zu-vermieten/\" onclick=\"javascript:window.open(this.href,'', 'menubar=no,toolbar=no,resizable=yes,scrollbars=yes,height=600,width=600');return false;\" target=\"_blank\"><i class=\"fa fa-google-plus\"></i></a> \n",
              "\t\t\t\t\t<a class=\"social-pinterest\" href=\"http://pinterest.com/pin/create/button/?url=https://www.oehboersen.at/property/modernes-reihenhaus-in-schoener-und-zentraler-lage-in-unmittelbarer-naehe-der-bushaltestelle-in-mils-bei-hall-mit-wunderschoenem-ausblick-ab-september-zu-vermieten/&amp;description=https%3A%2F%2Fwww.oehboersen.at%2Fproperty%2Fmodernes-reihenhaus-in-schoener-und-zentraler-lage-in-unmittelbarer-naehe-der-bushaltestelle-in-mils-bei-hall-mit-wunderschoenem-ausblick-ab-september-zu-vermieten%2F\" target=\"_blank\"><i class=\"fa fa-pinterest-p\"></i></a>\n",
              "\t\t\t\t</div>\n",
              "\t\t\t\t<i class=\"fa fa-share-alt share-property\" data-original-title=\"Teilen\" title=\"Teilen\"> Teilen</i>\n",
              "\t\t\t\t<i class=\"fa fa-plus compare-property\" data-compare-id=\"190629\" title=\"Vergleichen\"> Vergleichen</i> \t\t\t\n",
              "\t\t\t<div class=\"clearfix\"></div>\n",
              "\t\t</div>\n",
              "\t</div>"
            ]
          },
          "metadata": {
            "tags": []
          },
          "execution_count": 211
        }
      ]
    },
    {
      "cell_type": "code",
      "metadata": {
        "id": "rtskLKWVuL5-",
        "colab_type": "code",
        "colab": {}
      },
      "source": [
        "p = oeh.find(\"ul\",class_=\"page-numbers\")\n",
        "end = int([li.text for li in p(\"li\")][-2])"
      ],
      "execution_count": 212,
      "outputs": []
    },
    {
      "cell_type": "code",
      "metadata": {
        "id": "vdj9JrATJc84",
        "colab_type": "code",
        "colab": {}
      },
      "source": [
        "def scrape_pages():\n",
        "\n",
        "  titles = []\n",
        "  types = []\n",
        "  prices = []\n",
        "  bks = []\n",
        "  areas = []\n",
        "  \n",
        "  for i in range(1,end+1):\n",
        "    url = \"https://www.oehboersen.at/page/0\"\n",
        "    html = simple_get(url)\n",
        "    oeh = bs(html, \"html.parser\")\n",
        "    for div in oeh.find_all(\"div\",class_ = \"property-content\"):\n",
        "      title = div.find(\"h3\",class_=\"title col-sm-8\").text\n",
        "      titles.append(title)\n",
        "      type_ = div.find(\"span\", class_=\"type\").text\n",
        "      types.append(type_)\n",
        "      price=div.find(\"h4\",class_= \"price text-primary\").next\n",
        "      prices.append(price)\n",
        "      bk= div.find(\"span\", class_=\"BKInfo\").text\n",
        "      bks.append(bk)\n",
        "      if div.find(\"div\", attrs={\"title\":\"Fläche des Mietgegenstandes\"}) != None:\n",
        "        area = div.find(\"div\", attrs={\"title\":\"Fläche des Mietgegenstandes\"}).text\n",
        "      else:\n",
        "        area = \"NA\"\n",
        "      areas.append(area)\n",
        "    titles_s = pd.Series(titles, name=\"title\")\n",
        "    types_s = pd.Series(types, name = \"type\")\n",
        "    prices_s = pd.Series(prices, name=\"price\")\n",
        "    bks_s = pd.Series(bks, name = \"bk\")\n",
        "    areas_s = pd.Series(areas, name = \"area\")  \n",
        "  return pd.concat([titles_s, types_s, prices_s, bks_s, areas_s], axis = 1)"
      ],
      "execution_count": 213,
      "outputs": []
    },
    {
      "cell_type": "code",
      "metadata": {
        "id": "icekXnAknLVB",
        "colab_type": "code",
        "colab": {}
      },
      "source": [
        "all_content = scrape_pages()"
      ],
      "execution_count": 214,
      "outputs": []
    },
    {
      "cell_type": "code",
      "metadata": {
        "id": "LAu0YQXlnRz4",
        "colab_type": "code",
        "colab": {
          "base_uri": "https://localhost:8080/",
          "height": 424
        },
        "outputId": "1fe49e07-3583-470d-8a22-a571fd583453"
      },
      "source": [
        "all_content"
      ],
      "execution_count": 215,
      "outputs": [
        {
          "output_type": "execute_result",
          "data": {
            "text/html": [
              "<div>\n",
              "<style scoped>\n",
              "    .dataframe tbody tr th:only-of-type {\n",
              "        vertical-align: middle;\n",
              "    }\n",
              "\n",
              "    .dataframe tbody tr th {\n",
              "        vertical-align: top;\n",
              "    }\n",
              "\n",
              "    .dataframe thead th {\n",
              "        text-align: right;\n",
              "    }\n",
              "</style>\n",
              "<table border=\"1\" class=\"dataframe\">\n",
              "  <thead>\n",
              "    <tr style=\"text-align: right;\">\n",
              "      <th></th>\n",
              "      <th>title</th>\n",
              "      <th>type</th>\n",
              "      <th>price</th>\n",
              "      <th>bk</th>\n",
              "      <th>area</th>\n",
              "    </tr>\n",
              "  </thead>\n",
              "  <tbody>\n",
              "    <tr>\n",
              "      <th>0</th>\n",
              "      <td>Modernes Reihenhaus in schöner und zentraler L...</td>\n",
              "      <td>Sonstiges</td>\n",
              "      <td>€ 1700,-</td>\n",
              "      <td>(inkl. BK)</td>\n",
              "      <td>NA</td>\n",
              "    </tr>\n",
              "    <tr>\n",
              "      <th>1</th>\n",
              "      <td>Ich biete Privatzimmer mit Balkon, Dusche, Toi...</td>\n",
              "      <td>Zimmer in 3er WG</td>\n",
              "      <td>€ 400,-</td>\n",
              "      <td>(inkl. BK)</td>\n",
              "      <td>26 m2</td>\n",
              "    </tr>\n",
              "    <tr>\n",
              "      <th>2</th>\n",
              "      <td>Garagenstellplatz, Amraser Straße, Sonnpark, N...</td>\n",
              "      <td>Autoabstellplatz</td>\n",
              "      <td>€ 95,-</td>\n",
              "      <td>(inkl. BK)</td>\n",
              "      <td>NA</td>\n",
              "    </tr>\n",
              "    <tr>\n",
              "      <th>3</th>\n",
              "      <td>Zimmer in 3er WG am Innrain</td>\n",
              "      <td>Zimmer in 3er WG</td>\n",
              "      <td>€ 390,-</td>\n",
              "      <td>(inkl. BK)</td>\n",
              "      <td>20 m2</td>\n",
              "    </tr>\n",
              "    <tr>\n",
              "      <th>4</th>\n",
              "      <td>Garconniere 25m2 €590.- inkl. BK, Heizung, Strom</td>\n",
              "      <td>Garçonnière</td>\n",
              "      <td>€ 590,-</td>\n",
              "      <td>(inkl. BK)</td>\n",
              "      <td>25 m2</td>\n",
              "    </tr>\n",
              "    <tr>\n",
              "      <th>...</th>\n",
              "      <td>...</td>\n",
              "      <td>...</td>\n",
              "      <td>...</td>\n",
              "      <td>...</td>\n",
              "      <td>...</td>\n",
              "    </tr>\n",
              "    <tr>\n",
              "      <th>247</th>\n",
              "      <td>Über den Dächern von Innsbruck</td>\n",
              "      <td>Zimmer in 3er WG</td>\n",
              "      <td>€ 450,-</td>\n",
              "      <td>(inkl. BK)</td>\n",
              "      <td>20 m2</td>\n",
              "    </tr>\n",
              "    <tr>\n",
              "      <th>248</th>\n",
              "      <td>2-Zimmer-Wohnung mit separater Küche und 2 Bal...</td>\n",
              "      <td>2-Zimmer Wohnung</td>\n",
              "      <td>€ 820,-</td>\n",
              "      <td>(inkl. BK)</td>\n",
              "      <td>56 m2</td>\n",
              "    </tr>\n",
              "    <tr>\n",
              "      <th>249</th>\n",
              "      <td>Schöne 2-Zi-Wohnung mit 2 Balkonen</td>\n",
              "      <td>2-Zimmer Wohnung</td>\n",
              "      <td>€ 850,-</td>\n",
              "      <td>(inkl. BK)</td>\n",
              "      <td>50 m2</td>\n",
              "    </tr>\n",
              "    <tr>\n",
              "      <th>250</th>\n",
              "      <td>Vermiete Kleinwohnung in Innsbruck Uni-/Klinik...</td>\n",
              "      <td>Garçonnière</td>\n",
              "      <td>€ 500,-</td>\n",
              "      <td>(inkl. BK)</td>\n",
              "      <td>NA</td>\n",
              "    </tr>\n",
              "    <tr>\n",
              "      <th>251</th>\n",
              "      <td>3 WG Zimmer in bester Lage</td>\n",
              "      <td>Zimmer in WG</td>\n",
              "      <td>€ 486,-</td>\n",
              "      <td>(inkl. BK)</td>\n",
              "      <td>NA</td>\n",
              "    </tr>\n",
              "  </tbody>\n",
              "</table>\n",
              "<p>252 rows × 5 columns</p>\n",
              "</div>"
            ],
            "text/plain": [
              "                                                 title  ...   area\n",
              "0    Modernes Reihenhaus in schöner und zentraler L...  ...     NA\n",
              "1    Ich biete Privatzimmer mit Balkon, Dusche, Toi...  ...  26 m2\n",
              "2    Garagenstellplatz, Amraser Straße, Sonnpark, N...  ...     NA\n",
              "3                          Zimmer in 3er WG am Innrain  ...  20 m2\n",
              "4     Garconniere 25m2 €590.- inkl. BK, Heizung, Strom  ...  25 m2\n",
              "..                                                 ...  ...    ...\n",
              "247                     Über den Dächern von Innsbruck  ...  20 m2\n",
              "248  2-Zimmer-Wohnung mit separater Küche und 2 Bal...  ...  56 m2\n",
              "249                 Schöne 2-Zi-Wohnung mit 2 Balkonen  ...  50 m2\n",
              "250  Vermiete Kleinwohnung in Innsbruck Uni-/Klinik...  ...     NA\n",
              "251                         3 WG Zimmer in bester Lage  ...     NA\n",
              "\n",
              "[252 rows x 5 columns]"
            ]
          },
          "metadata": {
            "tags": []
          },
          "execution_count": 215
        }
      ]
    },
    {
      "cell_type": "code",
      "metadata": {
        "id": "JafIZiJqosus",
        "colab_type": "code",
        "colab": {
          "base_uri": "https://localhost:8080/",
          "height": 182
        },
        "outputId": "ae2cb29f-658c-4397-f239-128a80228afd"
      },
      "source": [
        "all_content[\"type\"].value_counts()"
      ],
      "execution_count": 216,
      "outputs": [
        {
          "output_type": "execute_result",
          "data": {
            "text/plain": [
              "Zimmer in 3er WG    84\n",
              "Garçonnière         48\n",
              "2-Zimmer Wohnung    36\n",
              "4-Zimmer Wohnung    24\n",
              "Autoabstellplatz    24\n",
              "Zimmer in WG        12\n",
              "Zimmer in 2er WG    12\n",
              "Sonstiges           12\n",
              "Name: type, dtype: int64"
            ]
          },
          "metadata": {
            "tags": []
          },
          "execution_count": 216
        }
      ]
    },
    {
      "cell_type": "code",
      "metadata": {
        "id": "XDYLFEwG0BFW",
        "colab_type": "code",
        "colab": {
          "base_uri": "https://localhost:8080/",
          "height": 54
        },
        "outputId": "22db7f6c-a309-4c55-b502-7030ab7ac9fb"
      },
      "source": [
        "all_content.bk.value_counts()"
      ],
      "execution_count": 217,
      "outputs": [
        {
          "output_type": "execute_result",
          "data": {
            "text/plain": [
              "(inkl. BK)    252\n",
              "Name: bk, dtype: int64"
            ]
          },
          "metadata": {
            "tags": []
          },
          "execution_count": 217
        }
      ]
    },
    {
      "cell_type": "code",
      "metadata": {
        "id": "clesPZmC0RTT",
        "colab_type": "code",
        "colab": {}
      },
      "source": [
        "all_content[\"price\"] = all_content.price.str.replace(\"€\",\"\").str.strip().str.replace(\",-\",\"\").str.replace(\",\",\".\").str.strip().astype(\"float\")"
      ],
      "execution_count": 218,
      "outputs": []
    },
    {
      "cell_type": "code",
      "metadata": {
        "id": "OLCiuI3Z0p83",
        "colab_type": "code",
        "colab": {}
      },
      "source": [
        "all_content[\"area\"] = all_content.area.str.replace(\"m2\",\"\").str.replace(\"NA\", \"0\").str.strip().astype(\"float\")"
      ],
      "execution_count": 219,
      "outputs": []
    },
    {
      "cell_type": "code",
      "metadata": {
        "id": "RB_h_8iJ1fuj",
        "colab_type": "code",
        "colab": {}
      },
      "source": [
        "all_content[\"type\"] = all_content[\"type\"].astype(\"category\")"
      ],
      "execution_count": 220,
      "outputs": []
    },
    {
      "cell_type": "code",
      "metadata": {
        "id": "Qi5DrI5a1z-1",
        "colab_type": "code",
        "colab": {
          "base_uri": "https://localhost:8080/",
          "height": 90
        },
        "outputId": "089cd18d-54e8-4b3a-da9a-c07f1ac83537"
      },
      "source": [
        "all_content[\"type\"].cat.categories"
      ],
      "execution_count": 221,
      "outputs": [
        {
          "output_type": "execute_result",
          "data": {
            "text/plain": [
              "Index(['2-Zimmer Wohnung', '4-Zimmer Wohnung', 'Autoabstellplatz',\n",
              "       'Garçonnière', 'Sonstiges', 'Zimmer in 2er WG', 'Zimmer in 3er WG',\n",
              "       'Zimmer in WG'],\n",
              "      dtype='object')"
            ]
          },
          "metadata": {
            "tags": []
          },
          "execution_count": 221
        }
      ]
    },
    {
      "cell_type": "code",
      "metadata": {
        "id": "imk3aapN3DZ8",
        "colab_type": "code",
        "colab": {
          "base_uri": "https://localhost:8080/",
          "height": 206
        },
        "outputId": "7d460ad7-0e2d-49cd-acb4-7ca11e22d343"
      },
      "source": [
        "no_wg = all_content.copy()\n",
        "no_wg[\"type\"] = no_wg[\"type\"].cat.remove_categories(['Autoabstellplatz','Zimmer in 2er WG', 'Zimmer in 3er WG', 'Zimmer in WG', \"Sonstiges\"])\n",
        "no_wg.head()"
      ],
      "execution_count": 222,
      "outputs": [
        {
          "output_type": "execute_result",
          "data": {
            "text/html": [
              "<div>\n",
              "<style scoped>\n",
              "    .dataframe tbody tr th:only-of-type {\n",
              "        vertical-align: middle;\n",
              "    }\n",
              "\n",
              "    .dataframe tbody tr th {\n",
              "        vertical-align: top;\n",
              "    }\n",
              "\n",
              "    .dataframe thead th {\n",
              "        text-align: right;\n",
              "    }\n",
              "</style>\n",
              "<table border=\"1\" class=\"dataframe\">\n",
              "  <thead>\n",
              "    <tr style=\"text-align: right;\">\n",
              "      <th></th>\n",
              "      <th>title</th>\n",
              "      <th>type</th>\n",
              "      <th>price</th>\n",
              "      <th>bk</th>\n",
              "      <th>area</th>\n",
              "    </tr>\n",
              "  </thead>\n",
              "  <tbody>\n",
              "    <tr>\n",
              "      <th>0</th>\n",
              "      <td>Modernes Reihenhaus in schöner und zentraler L...</td>\n",
              "      <td>NaN</td>\n",
              "      <td>1700.0</td>\n",
              "      <td>(inkl. BK)</td>\n",
              "      <td>0.0</td>\n",
              "    </tr>\n",
              "    <tr>\n",
              "      <th>1</th>\n",
              "      <td>Ich biete Privatzimmer mit Balkon, Dusche, Toi...</td>\n",
              "      <td>NaN</td>\n",
              "      <td>400.0</td>\n",
              "      <td>(inkl. BK)</td>\n",
              "      <td>26.0</td>\n",
              "    </tr>\n",
              "    <tr>\n",
              "      <th>2</th>\n",
              "      <td>Garagenstellplatz, Amraser Straße, Sonnpark, N...</td>\n",
              "      <td>NaN</td>\n",
              "      <td>95.0</td>\n",
              "      <td>(inkl. BK)</td>\n",
              "      <td>0.0</td>\n",
              "    </tr>\n",
              "    <tr>\n",
              "      <th>3</th>\n",
              "      <td>Zimmer in 3er WG am Innrain</td>\n",
              "      <td>NaN</td>\n",
              "      <td>390.0</td>\n",
              "      <td>(inkl. BK)</td>\n",
              "      <td>20.0</td>\n",
              "    </tr>\n",
              "    <tr>\n",
              "      <th>4</th>\n",
              "      <td>Garconniere 25m2 €590.- inkl. BK, Heizung, Strom</td>\n",
              "      <td>Garçonnière</td>\n",
              "      <td>590.0</td>\n",
              "      <td>(inkl. BK)</td>\n",
              "      <td>25.0</td>\n",
              "    </tr>\n",
              "  </tbody>\n",
              "</table>\n",
              "</div>"
            ],
            "text/plain": [
              "                                               title  ...  area\n",
              "0  Modernes Reihenhaus in schöner und zentraler L...  ...   0.0\n",
              "1  Ich biete Privatzimmer mit Balkon, Dusche, Toi...  ...  26.0\n",
              "2  Garagenstellplatz, Amraser Straße, Sonnpark, N...  ...   0.0\n",
              "3                        Zimmer in 3er WG am Innrain  ...  20.0\n",
              "4   Garconniere 25m2 €590.- inkl. BK, Heizung, Strom  ...  25.0\n",
              "\n",
              "[5 rows x 5 columns]"
            ]
          },
          "metadata": {
            "tags": []
          },
          "execution_count": 222
        }
      ]
    },
    {
      "cell_type": "code",
      "metadata": {
        "id": "maRqtgyfTGNb",
        "colab_type": "code",
        "colab": {
          "base_uri": "https://localhost:8080/",
          "height": 424
        },
        "outputId": "5297387c-998f-43d6-e249-2c735cda1ae2"
      },
      "source": [
        "dups = no_wg[no_wg.duplicated()].copy()\n",
        "dups"
      ],
      "execution_count": 223,
      "outputs": [
        {
          "output_type": "execute_result",
          "data": {
            "text/html": [
              "<div>\n",
              "<style scoped>\n",
              "    .dataframe tbody tr th:only-of-type {\n",
              "        vertical-align: middle;\n",
              "    }\n",
              "\n",
              "    .dataframe tbody tr th {\n",
              "        vertical-align: top;\n",
              "    }\n",
              "\n",
              "    .dataframe thead th {\n",
              "        text-align: right;\n",
              "    }\n",
              "</style>\n",
              "<table border=\"1\" class=\"dataframe\">\n",
              "  <thead>\n",
              "    <tr style=\"text-align: right;\">\n",
              "      <th></th>\n",
              "      <th>title</th>\n",
              "      <th>type</th>\n",
              "      <th>price</th>\n",
              "      <th>bk</th>\n",
              "      <th>area</th>\n",
              "    </tr>\n",
              "  </thead>\n",
              "  <tbody>\n",
              "    <tr>\n",
              "      <th>21</th>\n",
              "      <td>Modernes Reihenhaus in schöner und zentraler L...</td>\n",
              "      <td>NaN</td>\n",
              "      <td>1700.0</td>\n",
              "      <td>(inkl. BK)</td>\n",
              "      <td>0.0</td>\n",
              "    </tr>\n",
              "    <tr>\n",
              "      <th>22</th>\n",
              "      <td>Ich biete Privatzimmer mit Balkon, Dusche, Toi...</td>\n",
              "      <td>NaN</td>\n",
              "      <td>400.0</td>\n",
              "      <td>(inkl. BK)</td>\n",
              "      <td>26.0</td>\n",
              "    </tr>\n",
              "    <tr>\n",
              "      <th>23</th>\n",
              "      <td>Garagenstellplatz, Amraser Straße, Sonnpark, N...</td>\n",
              "      <td>NaN</td>\n",
              "      <td>95.0</td>\n",
              "      <td>(inkl. BK)</td>\n",
              "      <td>0.0</td>\n",
              "    </tr>\n",
              "    <tr>\n",
              "      <th>24</th>\n",
              "      <td>Zimmer in 3er WG am Innrain</td>\n",
              "      <td>NaN</td>\n",
              "      <td>390.0</td>\n",
              "      <td>(inkl. BK)</td>\n",
              "      <td>20.0</td>\n",
              "    </tr>\n",
              "    <tr>\n",
              "      <th>25</th>\n",
              "      <td>Garconniere 25m2 €590.- inkl. BK, Heizung, Strom</td>\n",
              "      <td>Garçonnière</td>\n",
              "      <td>590.0</td>\n",
              "      <td>(inkl. BK)</td>\n",
              "      <td>25.0</td>\n",
              "    </tr>\n",
              "    <tr>\n",
              "      <th>...</th>\n",
              "      <td>...</td>\n",
              "      <td>...</td>\n",
              "      <td>...</td>\n",
              "      <td>...</td>\n",
              "      <td>...</td>\n",
              "    </tr>\n",
              "    <tr>\n",
              "      <th>247</th>\n",
              "      <td>Über den Dächern von Innsbruck</td>\n",
              "      <td>NaN</td>\n",
              "      <td>450.0</td>\n",
              "      <td>(inkl. BK)</td>\n",
              "      <td>20.0</td>\n",
              "    </tr>\n",
              "    <tr>\n",
              "      <th>248</th>\n",
              "      <td>2-Zimmer-Wohnung mit separater Küche und 2 Bal...</td>\n",
              "      <td>2-Zimmer Wohnung</td>\n",
              "      <td>820.0</td>\n",
              "      <td>(inkl. BK)</td>\n",
              "      <td>56.0</td>\n",
              "    </tr>\n",
              "    <tr>\n",
              "      <th>249</th>\n",
              "      <td>Schöne 2-Zi-Wohnung mit 2 Balkonen</td>\n",
              "      <td>2-Zimmer Wohnung</td>\n",
              "      <td>850.0</td>\n",
              "      <td>(inkl. BK)</td>\n",
              "      <td>50.0</td>\n",
              "    </tr>\n",
              "    <tr>\n",
              "      <th>250</th>\n",
              "      <td>Vermiete Kleinwohnung in Innsbruck Uni-/Klinik...</td>\n",
              "      <td>Garçonnière</td>\n",
              "      <td>500.0</td>\n",
              "      <td>(inkl. BK)</td>\n",
              "      <td>0.0</td>\n",
              "    </tr>\n",
              "    <tr>\n",
              "      <th>251</th>\n",
              "      <td>3 WG Zimmer in bester Lage</td>\n",
              "      <td>NaN</td>\n",
              "      <td>486.0</td>\n",
              "      <td>(inkl. BK)</td>\n",
              "      <td>0.0</td>\n",
              "    </tr>\n",
              "  </tbody>\n",
              "</table>\n",
              "<p>231 rows × 5 columns</p>\n",
              "</div>"
            ],
            "text/plain": [
              "                                                 title  ...  area\n",
              "21   Modernes Reihenhaus in schöner und zentraler L...  ...   0.0\n",
              "22   Ich biete Privatzimmer mit Balkon, Dusche, Toi...  ...  26.0\n",
              "23   Garagenstellplatz, Amraser Straße, Sonnpark, N...  ...   0.0\n",
              "24                         Zimmer in 3er WG am Innrain  ...  20.0\n",
              "25    Garconniere 25m2 €590.- inkl. BK, Heizung, Strom  ...  25.0\n",
              "..                                                 ...  ...   ...\n",
              "247                     Über den Dächern von Innsbruck  ...  20.0\n",
              "248  2-Zimmer-Wohnung mit separater Küche und 2 Bal...  ...  56.0\n",
              "249                 Schöne 2-Zi-Wohnung mit 2 Balkonen  ...  50.0\n",
              "250  Vermiete Kleinwohnung in Innsbruck Uni-/Klinik...  ...   0.0\n",
              "251                         3 WG Zimmer in bester Lage  ...   0.0\n",
              "\n",
              "[231 rows x 5 columns]"
            ]
          },
          "metadata": {
            "tags": []
          },
          "execution_count": 223
        }
      ]
    },
    {
      "cell_type": "code",
      "metadata": {
        "id": "DD-kvgoPWNkt",
        "colab_type": "code",
        "colab": {
          "base_uri": "https://localhost:8080/",
          "height": 708
        },
        "outputId": "2cfde411-8c2b-48b7-9448-21e375457329"
      },
      "source": [
        "no_wg = no_wg[~no_wg.duplicated()].copy()\n",
        "no_wg"
      ],
      "execution_count": 224,
      "outputs": [
        {
          "output_type": "execute_result",
          "data": {
            "text/html": [
              "<div>\n",
              "<style scoped>\n",
              "    .dataframe tbody tr th:only-of-type {\n",
              "        vertical-align: middle;\n",
              "    }\n",
              "\n",
              "    .dataframe tbody tr th {\n",
              "        vertical-align: top;\n",
              "    }\n",
              "\n",
              "    .dataframe thead th {\n",
              "        text-align: right;\n",
              "    }\n",
              "</style>\n",
              "<table border=\"1\" class=\"dataframe\">\n",
              "  <thead>\n",
              "    <tr style=\"text-align: right;\">\n",
              "      <th></th>\n",
              "      <th>title</th>\n",
              "      <th>type</th>\n",
              "      <th>price</th>\n",
              "      <th>bk</th>\n",
              "      <th>area</th>\n",
              "    </tr>\n",
              "  </thead>\n",
              "  <tbody>\n",
              "    <tr>\n",
              "      <th>0</th>\n",
              "      <td>Modernes Reihenhaus in schöner und zentraler L...</td>\n",
              "      <td>NaN</td>\n",
              "      <td>1700.0</td>\n",
              "      <td>(inkl. BK)</td>\n",
              "      <td>0.0</td>\n",
              "    </tr>\n",
              "    <tr>\n",
              "      <th>1</th>\n",
              "      <td>Ich biete Privatzimmer mit Balkon, Dusche, Toi...</td>\n",
              "      <td>NaN</td>\n",
              "      <td>400.0</td>\n",
              "      <td>(inkl. BK)</td>\n",
              "      <td>26.0</td>\n",
              "    </tr>\n",
              "    <tr>\n",
              "      <th>2</th>\n",
              "      <td>Garagenstellplatz, Amraser Straße, Sonnpark, N...</td>\n",
              "      <td>NaN</td>\n",
              "      <td>95.0</td>\n",
              "      <td>(inkl. BK)</td>\n",
              "      <td>0.0</td>\n",
              "    </tr>\n",
              "    <tr>\n",
              "      <th>3</th>\n",
              "      <td>Zimmer in 3er WG am Innrain</td>\n",
              "      <td>NaN</td>\n",
              "      <td>390.0</td>\n",
              "      <td>(inkl. BK)</td>\n",
              "      <td>20.0</td>\n",
              "    </tr>\n",
              "    <tr>\n",
              "      <th>4</th>\n",
              "      <td>Garconniere 25m2 €590.- inkl. BK, Heizung, Strom</td>\n",
              "      <td>Garçonnière</td>\n",
              "      <td>590.0</td>\n",
              "      <td>(inkl. BK)</td>\n",
              "      <td>25.0</td>\n",
              "    </tr>\n",
              "    <tr>\n",
              "      <th>5</th>\n",
              "      <td>TG Abstellplatz</td>\n",
              "      <td>NaN</td>\n",
              "      <td>115.0</td>\n",
              "      <td>(inkl. BK)</td>\n",
              "      <td>0.0</td>\n",
              "    </tr>\n",
              "    <tr>\n",
              "      <th>6</th>\n",
              "      <td>Neuwertige sehr gut aufgeteilte, WG geeignete,...</td>\n",
              "      <td>2-Zimmer Wohnung</td>\n",
              "      <td>835.0</td>\n",
              "      <td>(inkl. BK)</td>\n",
              "      <td>45.0</td>\n",
              "    </tr>\n",
              "    <tr>\n",
              "      <th>7</th>\n",
              "      <td>Helles Zimmer mit Balkon</td>\n",
              "      <td>NaN</td>\n",
              "      <td>460.0</td>\n",
              "      <td>(inkl. BK)</td>\n",
              "      <td>0.0</td>\n",
              "    </tr>\n",
              "    <tr>\n",
              "      <th>8</th>\n",
              "      <td>Schönes Zimmer in 2 er WG am Mentlberg</td>\n",
              "      <td>NaN</td>\n",
              "      <td>470.0</td>\n",
              "      <td>(inkl. BK)</td>\n",
              "      <td>45.0</td>\n",
              "    </tr>\n",
              "    <tr>\n",
              "      <th>9</th>\n",
              "      <td>2 Personen für WG gesucht / helle Dachgeschoss...</td>\n",
              "      <td>4-Zimmer Wohnung</td>\n",
              "      <td>1000.0</td>\n",
              "      <td>(inkl. BK)</td>\n",
              "      <td>95.0</td>\n",
              "    </tr>\n",
              "    <tr>\n",
              "      <th>10</th>\n",
              "      <td>Hell und gemütlich</td>\n",
              "      <td>NaN</td>\n",
              "      <td>450.0</td>\n",
              "      <td>(inkl. BK)</td>\n",
              "      <td>20.0</td>\n",
              "    </tr>\n",
              "    <tr>\n",
              "      <th>11</th>\n",
              "      <td>Großgarçonnière, Tivolinähe</td>\n",
              "      <td>Garçonnière</td>\n",
              "      <td>750.0</td>\n",
              "      <td>(inkl. BK)</td>\n",
              "      <td>50.0</td>\n",
              "    </tr>\n",
              "    <tr>\n",
              "      <th>12</th>\n",
              "      <td>4 ZIMMERWOHNUNG IN HÖTTINGER AU ALS 3ER WG AN ...</td>\n",
              "      <td>4-Zimmer Wohnung</td>\n",
              "      <td>1800.0</td>\n",
              "      <td>(inkl. BK)</td>\n",
              "      <td>100.0</td>\n",
              "    </tr>\n",
              "    <tr>\n",
              "      <th>13</th>\n",
              "      <td>Zentrale Garconniere mit Balkon</td>\n",
              "      <td>Garçonnière</td>\n",
              "      <td>590.0</td>\n",
              "      <td>(inkl. BK)</td>\n",
              "      <td>30.0</td>\n",
              "    </tr>\n",
              "    <tr>\n",
              "      <th>14</th>\n",
              "      <td>Kleines aber feines teilmöbliertes WG Zimmer i...</td>\n",
              "      <td>NaN</td>\n",
              "      <td>330.0</td>\n",
              "      <td>(inkl. BK)</td>\n",
              "      <td>9.0</td>\n",
              "    </tr>\n",
              "    <tr>\n",
              "      <th>15</th>\n",
              "      <td>Möbliertes Zimmer in dreier WG zur Zwischenmie...</td>\n",
              "      <td>NaN</td>\n",
              "      <td>350.0</td>\n",
              "      <td>(inkl. BK)</td>\n",
              "      <td>0.0</td>\n",
              "    </tr>\n",
              "    <tr>\n",
              "      <th>16</th>\n",
              "      <td>Über den Dächern von Innsbruck</td>\n",
              "      <td>NaN</td>\n",
              "      <td>450.0</td>\n",
              "      <td>(inkl. BK)</td>\n",
              "      <td>20.0</td>\n",
              "    </tr>\n",
              "    <tr>\n",
              "      <th>17</th>\n",
              "      <td>2-Zimmer-Wohnung mit separater Küche und 2 Bal...</td>\n",
              "      <td>2-Zimmer Wohnung</td>\n",
              "      <td>820.0</td>\n",
              "      <td>(inkl. BK)</td>\n",
              "      <td>56.0</td>\n",
              "    </tr>\n",
              "    <tr>\n",
              "      <th>18</th>\n",
              "      <td>Schöne 2-Zi-Wohnung mit 2 Balkonen</td>\n",
              "      <td>2-Zimmer Wohnung</td>\n",
              "      <td>850.0</td>\n",
              "      <td>(inkl. BK)</td>\n",
              "      <td>50.0</td>\n",
              "    </tr>\n",
              "    <tr>\n",
              "      <th>19</th>\n",
              "      <td>Vermiete Kleinwohnung in Innsbruck Uni-/Klinik...</td>\n",
              "      <td>Garçonnière</td>\n",
              "      <td>500.0</td>\n",
              "      <td>(inkl. BK)</td>\n",
              "      <td>0.0</td>\n",
              "    </tr>\n",
              "    <tr>\n",
              "      <th>20</th>\n",
              "      <td>3 WG Zimmer in bester Lage</td>\n",
              "      <td>NaN</td>\n",
              "      <td>486.0</td>\n",
              "      <td>(inkl. BK)</td>\n",
              "      <td>0.0</td>\n",
              "    </tr>\n",
              "  </tbody>\n",
              "</table>\n",
              "</div>"
            ],
            "text/plain": [
              "                                                title  ...   area\n",
              "0   Modernes Reihenhaus in schöner und zentraler L...  ...    0.0\n",
              "1   Ich biete Privatzimmer mit Balkon, Dusche, Toi...  ...   26.0\n",
              "2   Garagenstellplatz, Amraser Straße, Sonnpark, N...  ...    0.0\n",
              "3                         Zimmer in 3er WG am Innrain  ...   20.0\n",
              "4    Garconniere 25m2 €590.- inkl. BK, Heizung, Strom  ...   25.0\n",
              "5                                     TG Abstellplatz  ...    0.0\n",
              "6   Neuwertige sehr gut aufgeteilte, WG geeignete,...  ...   45.0\n",
              "7                            Helles Zimmer mit Balkon  ...    0.0\n",
              "8              Schönes Zimmer in 2 er WG am Mentlberg  ...   45.0\n",
              "9   2 Personen für WG gesucht / helle Dachgeschoss...  ...   95.0\n",
              "10                                 Hell und gemütlich  ...   20.0\n",
              "11                        Großgarçonnière, Tivolinähe  ...   50.0\n",
              "12  4 ZIMMERWOHNUNG IN HÖTTINGER AU ALS 3ER WG AN ...  ...  100.0\n",
              "13                    Zentrale Garconniere mit Balkon  ...   30.0\n",
              "14  Kleines aber feines teilmöbliertes WG Zimmer i...  ...    9.0\n",
              "15  Möbliertes Zimmer in dreier WG zur Zwischenmie...  ...    0.0\n",
              "16                     Über den Dächern von Innsbruck  ...   20.0\n",
              "17  2-Zimmer-Wohnung mit separater Küche und 2 Bal...  ...   56.0\n",
              "18                 Schöne 2-Zi-Wohnung mit 2 Balkonen  ...   50.0\n",
              "19  Vermiete Kleinwohnung in Innsbruck Uni-/Klinik...  ...    0.0\n",
              "20                         3 WG Zimmer in bester Lage  ...    0.0\n",
              "\n",
              "[21 rows x 5 columns]"
            ]
          },
          "metadata": {
            "tags": []
          },
          "execution_count": 224
        }
      ]
    },
    {
      "cell_type": "code",
      "metadata": {
        "id": "qQ1vYxL532aL",
        "colab_type": "code",
        "colab": {
          "base_uri": "https://localhost:8080/",
          "height": 237
        },
        "outputId": "3b4d0973-45ae-475e-c9dc-65f4830ea57c"
      },
      "source": [
        "no_wg.info()"
      ],
      "execution_count": 225,
      "outputs": [
        {
          "output_type": "stream",
          "text": [
            "<class 'pandas.core.frame.DataFrame'>\n",
            "Int64Index: 21 entries, 0 to 20\n",
            "Data columns (total 5 columns):\n",
            " #   Column  Non-Null Count  Dtype   \n",
            "---  ------  --------------  -----   \n",
            " 0   title   21 non-null     object  \n",
            " 1   type    9 non-null      category\n",
            " 2   price   21 non-null     float64 \n",
            " 3   bk      21 non-null     object  \n",
            " 4   area    21 non-null     float64 \n",
            "dtypes: category(1), float64(2), object(2)\n",
            "memory usage: 965.0+ bytes\n"
          ],
          "name": "stdout"
        }
      ]
    },
    {
      "cell_type": "code",
      "metadata": {
        "id": "RVyCKkR135nz",
        "colab_type": "code",
        "colab": {}
      },
      "source": [
        "no_wg.dropna(axis = 0, inplace=True)"
      ],
      "execution_count": 226,
      "outputs": []
    },
    {
      "cell_type": "code",
      "metadata": {
        "id": "qk632xBdNbKq",
        "colab_type": "code",
        "colab": {}
      },
      "source": [
        "no_wg.reset_index(inplace=True,drop = True)"
      ],
      "execution_count": 227,
      "outputs": []
    },
    {
      "cell_type": "code",
      "metadata": {
        "id": "XeCFI4Og3_7g",
        "colab_type": "code",
        "colab": {
          "base_uri": "https://localhost:8080/",
          "height": 237
        },
        "outputId": "26325c4c-7e2d-4f3f-aea1-d14be81b95f4"
      },
      "source": [
        "no_wg.info()"
      ],
      "execution_count": 228,
      "outputs": [
        {
          "output_type": "stream",
          "text": [
            "<class 'pandas.core.frame.DataFrame'>\n",
            "RangeIndex: 9 entries, 0 to 8\n",
            "Data columns (total 5 columns):\n",
            " #   Column  Non-Null Count  Dtype   \n",
            "---  ------  --------------  -----   \n",
            " 0   title   9 non-null      object  \n",
            " 1   type    9 non-null      category\n",
            " 2   price   9 non-null      float64 \n",
            " 3   bk      9 non-null      object  \n",
            " 4   area    9 non-null      float64 \n",
            "dtypes: category(1), float64(2), object(2)\n",
            "memory usage: 529.0+ bytes\n"
          ],
          "name": "stdout"
        }
      ]
    },
    {
      "cell_type": "code",
      "metadata": {
        "id": "OwI_Ii2dCWzN",
        "colab_type": "code",
        "colab": {
          "base_uri": "https://localhost:8080/",
          "height": 206
        },
        "outputId": "a4288b3b-b76c-4140-b568-89f02f30268b"
      },
      "source": [
        "# Miete je m2\n",
        "no_wg[\"price_per_m2\"] = no_wg.price/no_wg.area\n",
        "no_wg.head()"
      ],
      "execution_count": 229,
      "outputs": [
        {
          "output_type": "execute_result",
          "data": {
            "text/html": [
              "<div>\n",
              "<style scoped>\n",
              "    .dataframe tbody tr th:only-of-type {\n",
              "        vertical-align: middle;\n",
              "    }\n",
              "\n",
              "    .dataframe tbody tr th {\n",
              "        vertical-align: top;\n",
              "    }\n",
              "\n",
              "    .dataframe thead th {\n",
              "        text-align: right;\n",
              "    }\n",
              "</style>\n",
              "<table border=\"1\" class=\"dataframe\">\n",
              "  <thead>\n",
              "    <tr style=\"text-align: right;\">\n",
              "      <th></th>\n",
              "      <th>title</th>\n",
              "      <th>type</th>\n",
              "      <th>price</th>\n",
              "      <th>bk</th>\n",
              "      <th>area</th>\n",
              "      <th>price_per_m2</th>\n",
              "    </tr>\n",
              "  </thead>\n",
              "  <tbody>\n",
              "    <tr>\n",
              "      <th>0</th>\n",
              "      <td>Garconniere 25m2 €590.- inkl. BK, Heizung, Strom</td>\n",
              "      <td>Garçonnière</td>\n",
              "      <td>590.0</td>\n",
              "      <td>(inkl. BK)</td>\n",
              "      <td>25.0</td>\n",
              "      <td>23.600000</td>\n",
              "    </tr>\n",
              "    <tr>\n",
              "      <th>1</th>\n",
              "      <td>Neuwertige sehr gut aufgeteilte, WG geeignete,...</td>\n",
              "      <td>2-Zimmer Wohnung</td>\n",
              "      <td>835.0</td>\n",
              "      <td>(inkl. BK)</td>\n",
              "      <td>45.0</td>\n",
              "      <td>18.555556</td>\n",
              "    </tr>\n",
              "    <tr>\n",
              "      <th>2</th>\n",
              "      <td>2 Personen für WG gesucht / helle Dachgeschoss...</td>\n",
              "      <td>4-Zimmer Wohnung</td>\n",
              "      <td>1000.0</td>\n",
              "      <td>(inkl. BK)</td>\n",
              "      <td>95.0</td>\n",
              "      <td>10.526316</td>\n",
              "    </tr>\n",
              "    <tr>\n",
              "      <th>3</th>\n",
              "      <td>Großgarçonnière, Tivolinähe</td>\n",
              "      <td>Garçonnière</td>\n",
              "      <td>750.0</td>\n",
              "      <td>(inkl. BK)</td>\n",
              "      <td>50.0</td>\n",
              "      <td>15.000000</td>\n",
              "    </tr>\n",
              "    <tr>\n",
              "      <th>4</th>\n",
              "      <td>4 ZIMMERWOHNUNG IN HÖTTINGER AU ALS 3ER WG AN ...</td>\n",
              "      <td>4-Zimmer Wohnung</td>\n",
              "      <td>1800.0</td>\n",
              "      <td>(inkl. BK)</td>\n",
              "      <td>100.0</td>\n",
              "      <td>18.000000</td>\n",
              "    </tr>\n",
              "  </tbody>\n",
              "</table>\n",
              "</div>"
            ],
            "text/plain": [
              "                                               title  ... price_per_m2\n",
              "0   Garconniere 25m2 €590.- inkl. BK, Heizung, Strom  ...    23.600000\n",
              "1  Neuwertige sehr gut aufgeteilte, WG geeignete,...  ...    18.555556\n",
              "2  2 Personen für WG gesucht / helle Dachgeschoss...  ...    10.526316\n",
              "3                        Großgarçonnière, Tivolinähe  ...    15.000000\n",
              "4  4 ZIMMERWOHNUNG IN HÖTTINGER AU ALS 3ER WG AN ...  ...    18.000000\n",
              "\n",
              "[5 rows x 6 columns]"
            ]
          },
          "metadata": {
            "tags": []
          },
          "execution_count": 229
        }
      ]
    },
    {
      "cell_type": "code",
      "metadata": {
        "id": "X8D9tye94Gsm",
        "colab_type": "code",
        "colab": {
          "base_uri": "https://localhost:8080/",
          "height": 300
        },
        "outputId": "8a269063-cffb-47ed-cd01-d320fac79cba"
      },
      "source": [
        "no_wg.describe()"
      ],
      "execution_count": 230,
      "outputs": [
        {
          "output_type": "execute_result",
          "data": {
            "text/html": [
              "<div>\n",
              "<style scoped>\n",
              "    .dataframe tbody tr th:only-of-type {\n",
              "        vertical-align: middle;\n",
              "    }\n",
              "\n",
              "    .dataframe tbody tr th {\n",
              "        vertical-align: top;\n",
              "    }\n",
              "\n",
              "    .dataframe thead th {\n",
              "        text-align: right;\n",
              "    }\n",
              "</style>\n",
              "<table border=\"1\" class=\"dataframe\">\n",
              "  <thead>\n",
              "    <tr style=\"text-align: right;\">\n",
              "      <th></th>\n",
              "      <th>price</th>\n",
              "      <th>area</th>\n",
              "      <th>price_per_m2</th>\n",
              "    </tr>\n",
              "  </thead>\n",
              "  <tbody>\n",
              "    <tr>\n",
              "      <th>count</th>\n",
              "      <td>9.000000</td>\n",
              "      <td>9.000000</td>\n",
              "      <td>9.000000</td>\n",
              "    </tr>\n",
              "    <tr>\n",
              "      <th>mean</th>\n",
              "      <td>859.444444</td>\n",
              "      <td>50.111111</td>\n",
              "      <td>inf</td>\n",
              "    </tr>\n",
              "    <tr>\n",
              "      <th>std</th>\n",
              "      <td>386.170659</td>\n",
              "      <td>31.841186</td>\n",
              "      <td>NaN</td>\n",
              "    </tr>\n",
              "    <tr>\n",
              "      <th>min</th>\n",
              "      <td>500.000000</td>\n",
              "      <td>0.000000</td>\n",
              "      <td>10.526316</td>\n",
              "    </tr>\n",
              "    <tr>\n",
              "      <th>25%</th>\n",
              "      <td>590.000000</td>\n",
              "      <td>30.000000</td>\n",
              "      <td>15.000000</td>\n",
              "    </tr>\n",
              "    <tr>\n",
              "      <th>50%</th>\n",
              "      <td>820.000000</td>\n",
              "      <td>50.000000</td>\n",
              "      <td>18.000000</td>\n",
              "    </tr>\n",
              "    <tr>\n",
              "      <th>75%</th>\n",
              "      <td>850.000000</td>\n",
              "      <td>56.000000</td>\n",
              "      <td>19.666667</td>\n",
              "    </tr>\n",
              "    <tr>\n",
              "      <th>max</th>\n",
              "      <td>1800.000000</td>\n",
              "      <td>100.000000</td>\n",
              "      <td>inf</td>\n",
              "    </tr>\n",
              "  </tbody>\n",
              "</table>\n",
              "</div>"
            ],
            "text/plain": [
              "             price        area  price_per_m2\n",
              "count     9.000000    9.000000      9.000000\n",
              "mean    859.444444   50.111111           inf\n",
              "std     386.170659   31.841186           NaN\n",
              "min     500.000000    0.000000     10.526316\n",
              "25%     590.000000   30.000000     15.000000\n",
              "50%     820.000000   50.000000     18.000000\n",
              "75%     850.000000   56.000000     19.666667\n",
              "max    1800.000000  100.000000           inf"
            ]
          },
          "metadata": {
            "tags": []
          },
          "execution_count": 230
        }
      ]
    },
    {
      "cell_type": "code",
      "metadata": {
        "id": "WSAQ2CkQ4LOp",
        "colab_type": "code",
        "colab": {
          "base_uri": "https://localhost:8080/",
          "height": 279
        },
        "outputId": "14d27450-5fbf-4ce9-e7a5-2de759726426"
      },
      "source": [
        "sns.distplot(no_wg.price)\n",
        "plt.show()"
      ],
      "execution_count": 231,
      "outputs": [
        {
          "output_type": "display_data",
          "data": {
            "image/png": "[encoded data removed]",
            "text/plain": [
              "<Figure size 432x288 with 1 Axes>"
            ]
          },
          "metadata": {
            "tags": [],
            "needs_background": "light"
          }
        }
      ]
    },
    {
      "cell_type": "code",
      "metadata": {
        "id": "K3tCiwQQ4mk3",
        "colab_type": "code",
        "colab": {
          "base_uri": "https://localhost:8080/",
          "height": 279
        },
        "outputId": "494d0b24-513c-4402-f016-3833aa36f860"
      },
      "source": [
        "sns.distplot(no_wg.area)\n",
        "plt.show()"
      ],
      "execution_count": 232,
      "outputs": [
        {
          "output_type": "display_data",
          "data": {
            "image/png": "[encoded data removed]",
            "text/plain": [
              "<Figure size 432x288 with 1 Axes>"
            ]
          },
          "metadata": {
            "tags": [],
            "needs_background": "light"
          }
        }
      ]
    },
    {
      "cell_type": "code",
      "metadata": {
        "id": "o1kIyuUL4-Tf",
        "colab_type": "code",
        "colab": {}
      },
      "source": [
        "# Miete je Whg-Type\n",
        "groups = no_wg.groupby(by=\"type\").mean()"
      ],
      "execution_count": 233,
      "outputs": []
    },
    {
      "cell_type": "code",
      "metadata": {
        "id": "J4-f2ZSd5SN7",
        "colab_type": "code",
        "colab": {
          "base_uri": "https://localhost:8080/",
          "height": 622
        },
        "outputId": "44269c55-bd77-4f5f-8262-1d14032cc950"
      },
      "source": [
        "fig = plt.figure(figsize = (10,10))\n",
        "sns.barplot(x = no_wg[\"type\"], y = no_wg.price).set_title(\"Durchschnittmiete je Whg-Kategorie\")\n",
        "plt.show()"
      ],
      "execution_count": 234,
      "outputs": [
        {
          "output_type": "display_data",
          "data": {
            "image/png": "[encoded data removed]",
            "text/plain": [
              "<Figure size 720x720 with 1 Axes>"
            ]
          },
          "metadata": {
            "tags": [],
            "needs_background": "light"
          }
        }
      ]
    },
    {
      "cell_type": "code",
      "metadata": {
        "id": "vpeb3vDU5TFj",
        "colab_type": "code",
        "colab": {
          "base_uri": "https://localhost:8080/",
          "height": 175
        },
        "outputId": "bb750307-e56c-4b2b-cdcb-d20220dfa3b9"
      },
      "source": [
        "groups"
      ],
      "execution_count": 235,
      "outputs": [
        {
          "output_type": "execute_result",
          "data": {
            "text/html": [
              "<div>\n",
              "<style scoped>\n",
              "    .dataframe tbody tr th:only-of-type {\n",
              "        vertical-align: middle;\n",
              "    }\n",
              "\n",
              "    .dataframe tbody tr th {\n",
              "        vertical-align: top;\n",
              "    }\n",
              "\n",
              "    .dataframe thead th {\n",
              "        text-align: right;\n",
              "    }\n",
              "</style>\n",
              "<table border=\"1\" class=\"dataframe\">\n",
              "  <thead>\n",
              "    <tr style=\"text-align: right;\">\n",
              "      <th></th>\n",
              "      <th>price</th>\n",
              "      <th>area</th>\n",
              "      <th>price_per_m2</th>\n",
              "    </tr>\n",
              "    <tr>\n",
              "      <th>type</th>\n",
              "      <th></th>\n",
              "      <th></th>\n",
              "      <th></th>\n",
              "    </tr>\n",
              "  </thead>\n",
              "  <tbody>\n",
              "    <tr>\n",
              "      <th>2-Zimmer Wohnung</th>\n",
              "      <td>835.0</td>\n",
              "      <td>50.333333</td>\n",
              "      <td>16.732804</td>\n",
              "    </tr>\n",
              "    <tr>\n",
              "      <th>4-Zimmer Wohnung</th>\n",
              "      <td>1400.0</td>\n",
              "      <td>97.500000</td>\n",
              "      <td>14.263158</td>\n",
              "    </tr>\n",
              "    <tr>\n",
              "      <th>Garçonnière</th>\n",
              "      <td>607.5</td>\n",
              "      <td>26.250000</td>\n",
              "      <td>inf</td>\n",
              "    </tr>\n",
              "  </tbody>\n",
              "</table>\n",
              "</div>"
            ],
            "text/plain": [
              "                   price       area  price_per_m2\n",
              "type                                             \n",
              "2-Zimmer Wohnung   835.0  50.333333     16.732804\n",
              "4-Zimmer Wohnung  1400.0  97.500000     14.263158\n",
              "Garçonnière        607.5  26.250000           inf"
            ]
          },
          "metadata": {
            "tags": []
          },
          "execution_count": 235
        }
      ]
    },
    {
      "cell_type": "code",
      "metadata": {
        "id": "2tyaK5npNCbg",
        "colab_type": "code",
        "colab": {
          "base_uri": "https://localhost:8080/",
          "height": 280
        },
        "outputId": "26189ee6-6b33-4368-dcdd-924855f7f1a4"
      },
      "source": [
        "sns.boxplot(x = \"type\", y = \"price_per_m2\",  data = no_wg)\n",
        "plt.show()"
      ],
      "execution_count": 236,
      "outputs": [
        {
          "output_type": "display_data",
          "data": {
            "image/png": "[encoded data removed]",
            "text/plain": [
              "<Figure size 432x288 with 1 Axes>"
            ]
          },
          "metadata": {
            "tags": [],
            "needs_background": "light"
          }
        }
      ]
    },
    {
      "cell_type": "code",
      "metadata": {
        "id": "fepiOvhAPdKq",
        "colab_type": "code",
        "colab": {
          "base_uri": "https://localhost:8080/",
          "height": 206
        },
        "outputId": "8751bb04-7270-4eca-bdf0-5fe05b6d0c97"
      },
      "source": [
        "top5_cheapest = no_wg.sort_values(by = \"price_per_m2\").head().copy()\n",
        "top5_cheapest"
      ],
      "execution_count": 237,
      "outputs": [
        {
          "output_type": "execute_result",
          "data": {
            "text/html": [
              "<div>\n",
              "<style scoped>\n",
              "    .dataframe tbody tr th:only-of-type {\n",
              "        vertical-align: middle;\n",
              "    }\n",
              "\n",
              "    .dataframe tbody tr th {\n",
              "        vertical-align: top;\n",
              "    }\n",
              "\n",
              "    .dataframe thead th {\n",
              "        text-align: right;\n",
              "    }\n",
              "</style>\n",
              "<table border=\"1\" class=\"dataframe\">\n",
              "  <thead>\n",
              "    <tr style=\"text-align: right;\">\n",
              "      <th></th>\n",
              "      <th>title</th>\n",
              "      <th>type</th>\n",
              "      <th>price</th>\n",
              "      <th>bk</th>\n",
              "      <th>area</th>\n",
              "      <th>price_per_m2</th>\n",
              "    </tr>\n",
              "  </thead>\n",
              "  <tbody>\n",
              "    <tr>\n",
              "      <th>2</th>\n",
              "      <td>2 Personen für WG gesucht / helle Dachgeschoss...</td>\n",
              "      <td>4-Zimmer Wohnung</td>\n",
              "      <td>1000.0</td>\n",
              "      <td>(inkl. BK)</td>\n",
              "      <td>95.0</td>\n",
              "      <td>10.526316</td>\n",
              "    </tr>\n",
              "    <tr>\n",
              "      <th>6</th>\n",
              "      <td>2-Zimmer-Wohnung mit separater Küche und 2 Bal...</td>\n",
              "      <td>2-Zimmer Wohnung</td>\n",
              "      <td>820.0</td>\n",
              "      <td>(inkl. BK)</td>\n",
              "      <td>56.0</td>\n",
              "      <td>14.642857</td>\n",
              "    </tr>\n",
              "    <tr>\n",
              "      <th>3</th>\n",
              "      <td>Großgarçonnière, Tivolinähe</td>\n",
              "      <td>Garçonnière</td>\n",
              "      <td>750.0</td>\n",
              "      <td>(inkl. BK)</td>\n",
              "      <td>50.0</td>\n",
              "      <td>15.000000</td>\n",
              "    </tr>\n",
              "    <tr>\n",
              "      <th>7</th>\n",
              "      <td>Schöne 2-Zi-Wohnung mit 2 Balkonen</td>\n",
              "      <td>2-Zimmer Wohnung</td>\n",
              "      <td>850.0</td>\n",
              "      <td>(inkl. BK)</td>\n",
              "      <td>50.0</td>\n",
              "      <td>17.000000</td>\n",
              "    </tr>\n",
              "    <tr>\n",
              "      <th>4</th>\n",
              "      <td>4 ZIMMERWOHNUNG IN HÖTTINGER AU ALS 3ER WG AN ...</td>\n",
              "      <td>4-Zimmer Wohnung</td>\n",
              "      <td>1800.0</td>\n",
              "      <td>(inkl. BK)</td>\n",
              "      <td>100.0</td>\n",
              "      <td>18.000000</td>\n",
              "    </tr>\n",
              "  </tbody>\n",
              "</table>\n",
              "</div>"
            ],
            "text/plain": [
              "                                               title  ... price_per_m2\n",
              "2  2 Personen für WG gesucht / helle Dachgeschoss...  ...    10.526316\n",
              "6  2-Zimmer-Wohnung mit separater Küche und 2 Bal...  ...    14.642857\n",
              "3                        Großgarçonnière, Tivolinähe  ...    15.000000\n",
              "7                 Schöne 2-Zi-Wohnung mit 2 Balkonen  ...    17.000000\n",
              "4  4 ZIMMERWOHNUNG IN HÖTTINGER AU ALS 3ER WG AN ...  ...    18.000000\n",
              "\n",
              "[5 rows x 6 columns]"
            ]
          },
          "metadata": {
            "tags": []
          },
          "execution_count": 237
        }
      ]
    },
    {
      "cell_type": "code",
      "metadata": {
        "id": "zJ1ntmqSTO98",
        "colab_type": "code",
        "colab": {}
      },
      "source": [
        "no_inf = no_wg[~no_wg.isin([np.nan, np.inf, -np.inf]).any(1)].copy()"
      ],
      "execution_count": 238,
      "outputs": []
    },
    {
      "cell_type": "code",
      "metadata": {
        "id": "EfYBc2M6SxD1",
        "colab_type": "code",
        "colab": {
          "base_uri": "https://localhost:8080/",
          "height": 206
        },
        "outputId": "bff59c35-efb6-42c0-baa9-5163f83c10e4"
      },
      "source": [
        "top5_expensive = no_inf.sort_values(by=\"price_per_m2\", ascending=False).head()\n",
        "top5_expensive"
      ],
      "execution_count": 239,
      "outputs": [
        {
          "output_type": "execute_result",
          "data": {
            "text/html": [
              "<div>\n",
              "<style scoped>\n",
              "    .dataframe tbody tr th:only-of-type {\n",
              "        vertical-align: middle;\n",
              "    }\n",
              "\n",
              "    .dataframe tbody tr th {\n",
              "        vertical-align: top;\n",
              "    }\n",
              "\n",
              "    .dataframe thead th {\n",
              "        text-align: right;\n",
              "    }\n",
              "</style>\n",
              "<table border=\"1\" class=\"dataframe\">\n",
              "  <thead>\n",
              "    <tr style=\"text-align: right;\">\n",
              "      <th></th>\n",
              "      <th>title</th>\n",
              "      <th>type</th>\n",
              "      <th>price</th>\n",
              "      <th>bk</th>\n",
              "      <th>area</th>\n",
              "      <th>price_per_m2</th>\n",
              "    </tr>\n",
              "  </thead>\n",
              "  <tbody>\n",
              "    <tr>\n",
              "      <th>0</th>\n",
              "      <td>Garconniere 25m2 €590.- inkl. BK, Heizung, Strom</td>\n",
              "      <td>Garçonnière</td>\n",
              "      <td>590.0</td>\n",
              "      <td>(inkl. BK)</td>\n",
              "      <td>25.0</td>\n",
              "      <td>23.600000</td>\n",
              "    </tr>\n",
              "    <tr>\n",
              "      <th>5</th>\n",
              "      <td>Zentrale Garconniere mit Balkon</td>\n",
              "      <td>Garçonnière</td>\n",
              "      <td>590.0</td>\n",
              "      <td>(inkl. BK)</td>\n",
              "      <td>30.0</td>\n",
              "      <td>19.666667</td>\n",
              "    </tr>\n",
              "    <tr>\n",
              "      <th>1</th>\n",
              "      <td>Neuwertige sehr gut aufgeteilte, WG geeignete,...</td>\n",
              "      <td>2-Zimmer Wohnung</td>\n",
              "      <td>835.0</td>\n",
              "      <td>(inkl. BK)</td>\n",
              "      <td>45.0</td>\n",
              "      <td>18.555556</td>\n",
              "    </tr>\n",
              "    <tr>\n",
              "      <th>4</th>\n",
              "      <td>4 ZIMMERWOHNUNG IN HÖTTINGER AU ALS 3ER WG AN ...</td>\n",
              "      <td>4-Zimmer Wohnung</td>\n",
              "      <td>1800.0</td>\n",
              "      <td>(inkl. BK)</td>\n",
              "      <td>100.0</td>\n",
              "      <td>18.000000</td>\n",
              "    </tr>\n",
              "    <tr>\n",
              "      <th>7</th>\n",
              "      <td>Schöne 2-Zi-Wohnung mit 2 Balkonen</td>\n",
              "      <td>2-Zimmer Wohnung</td>\n",
              "      <td>850.0</td>\n",
              "      <td>(inkl. BK)</td>\n",
              "      <td>50.0</td>\n",
              "      <td>17.000000</td>\n",
              "    </tr>\n",
              "  </tbody>\n",
              "</table>\n",
              "</div>"
            ],
            "text/plain": [
              "                                               title  ... price_per_m2\n",
              "0   Garconniere 25m2 €590.- inkl. BK, Heizung, Strom  ...    23.600000\n",
              "5                    Zentrale Garconniere mit Balkon  ...    19.666667\n",
              "1  Neuwertige sehr gut aufgeteilte, WG geeignete,...  ...    18.555556\n",
              "4  4 ZIMMERWOHNUNG IN HÖTTINGER AU ALS 3ER WG AN ...  ...    18.000000\n",
              "7                 Schöne 2-Zi-Wohnung mit 2 Balkonen  ...    17.000000\n",
              "\n",
              "[5 rows x 6 columns]"
            ]
          },
          "metadata": {
            "tags": []
          },
          "execution_count": 239
        }
      ]
    },
    {
      "cell_type": "code",
      "metadata": {
        "id": "GDCgVnlxVRd0",
        "colab_type": "code",
        "colab": {
          "base_uri": "https://localhost:8080/",
          "height": 424
        },
        "outputId": "84ad90ff-8f8d-4834-8722-efd09a6028ce"
      },
      "source": [
        "dups.sort_values(by = \"title\")"
      ],
      "execution_count": 240,
      "outputs": [
        {
          "output_type": "execute_result",
          "data": {
            "text/html": [
              "<div>\n",
              "<style scoped>\n",
              "    .dataframe tbody tr th:only-of-type {\n",
              "        vertical-align: middle;\n",
              "    }\n",
              "\n",
              "    .dataframe tbody tr th {\n",
              "        vertical-align: top;\n",
              "    }\n",
              "\n",
              "    .dataframe thead th {\n",
              "        text-align: right;\n",
              "    }\n",
              "</style>\n",
              "<table border=\"1\" class=\"dataframe\">\n",
              "  <thead>\n",
              "    <tr style=\"text-align: right;\">\n",
              "      <th></th>\n",
              "      <th>title</th>\n",
              "      <th>type</th>\n",
              "      <th>price</th>\n",
              "      <th>bk</th>\n",
              "      <th>area</th>\n",
              "    </tr>\n",
              "  </thead>\n",
              "  <tbody>\n",
              "    <tr>\n",
              "      <th>51</th>\n",
              "      <td>2 Personen für WG gesucht / helle Dachgeschoss...</td>\n",
              "      <td>4-Zimmer Wohnung</td>\n",
              "      <td>1000.0</td>\n",
              "      <td>(inkl. BK)</td>\n",
              "      <td>95.0</td>\n",
              "    </tr>\n",
              "    <tr>\n",
              "      <th>198</th>\n",
              "      <td>2 Personen für WG gesucht / helle Dachgeschoss...</td>\n",
              "      <td>4-Zimmer Wohnung</td>\n",
              "      <td>1000.0</td>\n",
              "      <td>(inkl. BK)</td>\n",
              "      <td>95.0</td>\n",
              "    </tr>\n",
              "    <tr>\n",
              "      <th>114</th>\n",
              "      <td>2 Personen für WG gesucht / helle Dachgeschoss...</td>\n",
              "      <td>4-Zimmer Wohnung</td>\n",
              "      <td>1000.0</td>\n",
              "      <td>(inkl. BK)</td>\n",
              "      <td>95.0</td>\n",
              "    </tr>\n",
              "    <tr>\n",
              "      <th>93</th>\n",
              "      <td>2 Personen für WG gesucht / helle Dachgeschoss...</td>\n",
              "      <td>4-Zimmer Wohnung</td>\n",
              "      <td>1000.0</td>\n",
              "      <td>(inkl. BK)</td>\n",
              "      <td>95.0</td>\n",
              "    </tr>\n",
              "    <tr>\n",
              "      <th>177</th>\n",
              "      <td>2 Personen für WG gesucht / helle Dachgeschoss...</td>\n",
              "      <td>4-Zimmer Wohnung</td>\n",
              "      <td>1000.0</td>\n",
              "      <td>(inkl. BK)</td>\n",
              "      <td>95.0</td>\n",
              "    </tr>\n",
              "    <tr>\n",
              "      <th>...</th>\n",
              "      <td>...</td>\n",
              "      <td>...</td>\n",
              "      <td>...</td>\n",
              "      <td>...</td>\n",
              "      <td>...</td>\n",
              "    </tr>\n",
              "    <tr>\n",
              "      <th>37</th>\n",
              "      <td>Über den Dächern von Innsbruck</td>\n",
              "      <td>NaN</td>\n",
              "      <td>450.0</td>\n",
              "      <td>(inkl. BK)</td>\n",
              "      <td>20.0</td>\n",
              "    </tr>\n",
              "    <tr>\n",
              "      <th>247</th>\n",
              "      <td>Über den Dächern von Innsbruck</td>\n",
              "      <td>NaN</td>\n",
              "      <td>450.0</td>\n",
              "      <td>(inkl. BK)</td>\n",
              "      <td>20.0</td>\n",
              "    </tr>\n",
              "    <tr>\n",
              "      <th>205</th>\n",
              "      <td>Über den Dächern von Innsbruck</td>\n",
              "      <td>NaN</td>\n",
              "      <td>450.0</td>\n",
              "      <td>(inkl. BK)</td>\n",
              "      <td>20.0</td>\n",
              "    </tr>\n",
              "    <tr>\n",
              "      <th>226</th>\n",
              "      <td>Über den Dächern von Innsbruck</td>\n",
              "      <td>NaN</td>\n",
              "      <td>450.0</td>\n",
              "      <td>(inkl. BK)</td>\n",
              "      <td>20.0</td>\n",
              "    </tr>\n",
              "    <tr>\n",
              "      <th>79</th>\n",
              "      <td>Über den Dächern von Innsbruck</td>\n",
              "      <td>NaN</td>\n",
              "      <td>450.0</td>\n",
              "      <td>(inkl. BK)</td>\n",
              "      <td>20.0</td>\n",
              "    </tr>\n",
              "  </tbody>\n",
              "</table>\n",
              "<p>231 rows × 5 columns</p>\n",
              "</div>"
            ],
            "text/plain": [
              "                                                 title  ...  area\n",
              "51   2 Personen für WG gesucht / helle Dachgeschoss...  ...  95.0\n",
              "198  2 Personen für WG gesucht / helle Dachgeschoss...  ...  95.0\n",
              "114  2 Personen für WG gesucht / helle Dachgeschoss...  ...  95.0\n",
              "93   2 Personen für WG gesucht / helle Dachgeschoss...  ...  95.0\n",
              "177  2 Personen für WG gesucht / helle Dachgeschoss...  ...  95.0\n",
              "..                                                 ...  ...   ...\n",
              "37                      Über den Dächern von Innsbruck  ...  20.0\n",
              "247                     Über den Dächern von Innsbruck  ...  20.0\n",
              "205                     Über den Dächern von Innsbruck  ...  20.0\n",
              "226                     Über den Dächern von Innsbruck  ...  20.0\n",
              "79                      Über den Dächern von Innsbruck  ...  20.0\n",
              "\n",
              "[231 rows x 5 columns]"
            ]
          },
          "metadata": {
            "tags": []
          },
          "execution_count": 240
        }
      ]
    },
    {
      "cell_type": "code",
      "metadata": {
        "id": "eg15j58jXBzj",
        "colab_type": "code",
        "colab": {}
      },
      "source": [
        ""
      ],
      "execution_count": 240,
      "outputs": []
    }
  ]
}