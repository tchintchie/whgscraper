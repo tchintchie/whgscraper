{
  "nbformat": 4,
  "nbformat_minor": 0,
  "metadata": {
    "colab": {
      "name": "soup",
      "provenance": [],
      "authorship_tag": "ABX9TyM91iTRbG6ud2msW3Csj6so",
      "include_colab_link": true
    },
    "kernelspec": {
      "name": "python3",
      "display_name": "Python 3"
    }
  },
  "cells": [
    {
      "cell_type": "markdown",
      "metadata": {
        "id": "view-in-github",
        "colab_type": "text"
      },
      "source": [
        "<a href=\"https://colab.research.google.com/github/tchintchie/whgscraper/blob/master/soup.ipynb\" target=\"_parent\"><img src=\"https://colab.research.google.com/assets/colab-badge.svg\" alt=\"Open In Colab\"/></a>"
      ]
    },
    {
      "cell_type": "code",
      "metadata": {
        "id": "Hq0yRBK6bJrH",
        "colab_type": "code",
        "colab": {}
      },
      "source": [
        "from requests import get\n",
        "from requests.exceptions import RequestException\n",
        "from contextlib import closing\n",
        "from bs4 import BeautifulSoup as bs\n",
        "import pandas as pd"
      ],
      "execution_count": 96,
      "outputs": []
    },
    {
      "cell_type": "code",
      "metadata": {
        "id": "Jm0MnM6bcyJm",
        "colab_type": "code",
        "colab": {}
      },
      "source": [
        "def simple_get(url):\n",
        "    \"\"\"\n",
        "    Attempts to get the content at `url` by making an HTTP GET request.\n",
        "    If the content-type of response is some kind of HTML/XML, return the\n",
        "    text content, otherwise return None.\n",
        "    \"\"\"\n",
        "    try:\n",
        "        with closing(get(url, stream=True)) as resp:\n",
        "            if is_good_response(resp):\n",
        "                return resp.content\n",
        "            else:\n",
        "                return None\n",
        "\n",
        "    except RequestException as e:\n",
        "        log_error(f'Error during requests to {url} : {str(e)}')\n",
        "        return None"
      ],
      "execution_count": 97,
      "outputs": []
    },
    {
      "cell_type": "code",
      "metadata": {
        "id": "3hL_3uHQdFNM",
        "colab_type": "code",
        "colab": {}
      },
      "source": [
        "\n",
        "def is_good_response(resp):\n",
        "    \"\"\"\n",
        "    Returns True if the response seems to be HTML, False otherwise.\n",
        "    \"\"\"\n",
        "    content_type = resp.headers['Content-Type'].lower()\n",
        "    return (resp.status_code == 200 \n",
        "            and content_type is not None \n",
        "            and content_type.find('html') > -1)"
      ],
      "execution_count": 98,
      "outputs": []
    },
    {
      "cell_type": "code",
      "metadata": {
        "id": "4GQJ3XJPdHEw",
        "colab_type": "code",
        "colab": {}
      },
      "source": [
        "\n",
        "def log_error(e):\n",
        "    \"\"\"\n",
        "    It is always a good idea to log errors. \n",
        "    This function just prints them, but you can\n",
        "    make it do anything.\n",
        "    \"\"\"\n",
        "    print(e)"
      ],
      "execution_count": 99,
      "outputs": []
    },
    {
      "cell_type": "code",
      "metadata": {
        "id": "NDNR8tfzdHzN",
        "colab_type": "code",
        "colab": {}
      },
      "source": [
        "url = \"https://www.oehboersen.at\"\n",
        "html = simple_get(url)"
      ],
      "execution_count": 100,
      "outputs": []
    },
    {
      "cell_type": "code",
      "metadata": {
        "id": "E574AlTodhNN",
        "colab_type": "code",
        "colab": {}
      },
      "source": [
        "oeh = bs(html, \"html5lib\")"
      ],
      "execution_count": 101,
      "outputs": []
    },
    {
      "cell_type": "code",
      "metadata": {
        "id": "V-2ccVSafA-h",
        "colab_type": "code",
        "colab": {}
      },
      "source": [
        "title = oeh.title.string"
      ],
      "execution_count": 102,
      "outputs": []
    },
    {
      "cell_type": "code",
      "metadata": {
        "id": "MVpjAf7o06-w",
        "colab_type": "code",
        "colab": {
          "base_uri": "https://localhost:8080/",
          "height": 768
        },
        "outputId": "52c357e3-7704-45cd-ffe3-4bf8bc78ed0e"
      },
      "source": [
        "rows = oeh.find_all(\"div\", class_=\"property-content\")\n",
        "rows[0]"
      ],
      "execution_count": 103,
      "outputs": [
        {
          "output_type": "execute_result",
          "data": {
            "text/plain": [
              "<div class=\"property-content\">\n",
              "\t\t\n",
              "\t\t\t\t<div class=\"row visible-xs visible-sm\">\n",
              "\t\t\t<span class=\"type\">2-Zimmer Wohnung</span> <span>·</span> <span class=\"status\">Miete</span>\t\t</div>\n",
              "\t\t\n",
              "\t\t<div class=\"row headlines\">\n",
              "\t\t\t<a href=\"https://www.oehboersen.at/property/2-zimmer-wohnung-ueber-den-daechern-der-stadt/\" tabindex=\"0\"><h3 class=\"title col-sm-8\">2.Zimmer.Wohnung.Über den Dächern der Stadt</h3> </a>\n",
              "\t\t\t<div class=\"price-tag col-sm-4\"><h4 class=\"price text-primary\">€ 597,- <span class=\"BKInfo\">(inkl. BK)</span></h4>\n",
              "\t\t\t\t\t\t\t\t<h4 class=\"flaeche\">63 m<sup>2</sup></h4>\n",
              "\t\t\t\t\t\t\t</div>\n",
              "\t\t</div>\n",
              "\t\t\n",
              "\t\t\t\t\n",
              "\t\t<div class=\"row\">\n",
              "\t\t\t<a href=\"https://www.oehboersen.at/property/2-zimmer-wohnung-ueber-den-daechern-der-stadt/\"><h4 class=\"address col-sm-8\"><strong>Altstadt</strong><br/><br/></h4></a>\n",
              "\t\t\t\n",
              "\t\t</div>\n",
              "\t\t\n",
              "\n",
              "\t\t\t\n",
              "\t\t\t\t<div class=\"property-meta clearfix\">\n",
              "\t\t\t\t\t\t\t<div>\n",
              "\t\t\t\t\t<div class=\"meta-title\"><i class=\"fa fa-expand\"></i></div>\n",
              "\t\t\t\t\t<div class=\"meta-data\" data-toggle=\"tooltip\" title=\"Fläche des Mietgegenstandes\">63 m<sup>2</sup></div>\n",
              "\t\t\t\t</div>\n",
              "\t\t\t\t\t\t\t<div>\n",
              "\t\t\t\t\t<div class=\"meta-title\"><i class=\"fa fa-calendar\"></i></div>\n",
              "\t\t\t\t\t<div class=\"meta-data\" data-toggle=\"tooltip\" title=\"Beziehbar ab\">ab sofort</div>\n",
              "\t\t\t\t</div>\n",
              "\t\t\t\t\t</div>\n",
              "\t\t\t\t\n",
              "\t\t<div class=\"property-price\">\n",
              "\t\t\t<span class=\"property-status\" data-toggle=\"tooltip\" title=\"Status\">Miete</span>\t\t\t\t<div class=\"share-unit\" data-toggle=\"tooltip\" style=\"display: none;\" title=\"Teilen\">\n",
              "\t\t\t\t\t<a class=\"social-facebook\" href=\"http://www.facebook.com/sharer.php?u=https%3A%2F%2Fwww.oehboersen.at%2Fproperty%2F2-zimmer-wohnung-ueber-den-daechern-der-stadt%2F&amp;t=2.Zimmer.Wohnung.%C3%9Cber+den+D%C3%A4chern+der+Stadt\" target=\"_blank\"><i class=\"fa fa-facebook\"></i></a>\n",
              "\t\t\t\t\t<a class=\"social-twitter\" href=\"http://twitter.com/home?status=2.Zimmer.Wohnung.%C3%9Cber+den+D%C3%A4chern+der+Stadt+https%3A%2F%2Fwww.oehboersen.at%2Fproperty%2F2-zimmer-wohnung-ueber-den-daechern-der-stadt%2F\" target=\"_blank\"><i class=\"fa fa-twitter\"></i></a>\n",
              "\t\t\t\t\t<a class=\"social-google\" href=\"https://plus.google.com/share?url=https://www.oehboersen.at/property/2-zimmer-wohnung-ueber-den-daechern-der-stadt/\" onclick=\"javascript:window.open(this.href,'', 'menubar=no,toolbar=no,resizable=yes,scrollbars=yes,height=600,width=600');return false;\" target=\"_blank\"><i class=\"fa fa-google-plus\"></i></a> \n",
              "\t\t\t\t\t<a class=\"social-pinterest\" href=\"http://pinterest.com/pin/create/button/?url=https://www.oehboersen.at/property/2-zimmer-wohnung-ueber-den-daechern-der-stadt/&amp;description=https%3A%2F%2Fwww.oehboersen.at%2Fproperty%2F2-zimmer-wohnung-ueber-den-daechern-der-stadt%2F\" target=\"_blank\"><i class=\"fa fa-pinterest-p\"></i></a>\n",
              "\t\t\t\t</div>\n",
              "\t\t\t\t<i class=\"fa fa-share-alt share-property\" data-original-title=\"Teilen\" title=\"Teilen\"> Teilen</i>\n",
              "\t\t\t\t<i class=\"fa fa-plus compare-property\" data-compare-id=\"190328\" title=\"Vergleichen\"> Vergleichen</i> \t\t\t\n",
              "\t\t\t<div class=\"clearfix\"></div>\n",
              "\t\t</div>\n",
              "\t</div>"
            ]
          },
          "metadata": {
            "tags": []
          },
          "execution_count": 103
        }
      ]
    },
    {
      "cell_type": "code",
      "metadata": {
        "id": "0jHFORYv6CzF",
        "colab_type": "code",
        "colab": {}
      },
      "source": [
        "def scrape():\n",
        "\n",
        "  titles = []\n",
        "  types = []\n",
        "  prices = []\n",
        "  bks = []\n",
        "  areas = []\n",
        "  for div in oeh.find_all(\"div\",class_ = \"property-content\"):\n",
        "    title = div.find(\"h3\",class_=\"title col-sm-8\").text\n",
        "    titles.append(title)\n",
        "    type_ = div.find(\"span\", class_=\"type\").text\n",
        "    types.append(type_)\n",
        "    price=div.find(\"h4\",class_= \"price text-primary\").next\n",
        "    prices.append(price)\n",
        "    bk= div.find(\"span\", class_=\"BKInfo\").text\n",
        "    bks.append(bk)\n",
        "    if div.find(\"div\", attrs={\"title\":\"Fläche des Mietgegenstandes\"}) != None:\n",
        "      area = div.find(\"div\", attrs={\"title\":\"Fläche des Mietgegenstandes\"}).text\n",
        "    else:\n",
        "      area = \"NA\"\n",
        "    areas.append(area)\n",
        "  titles_s = pd.Series(titles, name=\"title\")\n",
        "  types_s = pd.Series(types, name = \"type\")\n",
        "  prices_s = pd.Series(prices, name=\"price\")\n",
        "  bks_s = pd.Series(bks, name = \"bk\")\n",
        "  areas_s = pd.Series(areas, name = \"area\")  \n",
        "  return pd.concat([titles_s, types_s, prices_s, bks_s, areas_s], axis = 1)"
      ],
      "execution_count": 129,
      "outputs": []
    },
    {
      "cell_type": "code",
      "metadata": {
        "id": "uV6WckJJ6oe6",
        "colab_type": "code",
        "colab": {
          "base_uri": "https://localhost:8080/",
          "height": 700
        },
        "outputId": "2ae6528f-fad6-4b3f-b986-6c034488eb8a"
      },
      "source": [
        "scrape()"
      ],
      "execution_count": 130,
      "outputs": [
        {
          "output_type": "execute_result",
          "data": {
            "text/html": [
              "<div>\n",
              "<style scoped>\n",
              "    .dataframe tbody tr th:only-of-type {\n",
              "        vertical-align: middle;\n",
              "    }\n",
              "\n",
              "    .dataframe tbody tr th {\n",
              "        vertical-align: top;\n",
              "    }\n",
              "\n",
              "    .dataframe thead th {\n",
              "        text-align: right;\n",
              "    }\n",
              "</style>\n",
              "<table border=\"1\" class=\"dataframe\">\n",
              "  <thead>\n",
              "    <tr style=\"text-align: right;\">\n",
              "      <th></th>\n",
              "      <th>title</th>\n",
              "      <th>type</th>\n",
              "      <th>price</th>\n",
              "      <th>bk</th>\n",
              "      <th>area</th>\n",
              "    </tr>\n",
              "  </thead>\n",
              "  <tbody>\n",
              "    <tr>\n",
              "      <th>0</th>\n",
              "      <td>2.Zimmer.Wohnung.Über den Dächern der Stadt</td>\n",
              "      <td>2-Zimmer Wohnung</td>\n",
              "      <td>€ 597,-</td>\n",
              "      <td>(inkl. BK)</td>\n",
              "      <td>63 m2</td>\n",
              "    </tr>\n",
              "    <tr>\n",
              "      <th>1</th>\n",
              "      <td>Gemütliche Bleibe in Sportlicher 3er WG</td>\n",
              "      <td>Zimmer in 3er WG</td>\n",
              "      <td>€ 280,-</td>\n",
              "      <td>(inkl. BK)</td>\n",
              "      <td>8 m2</td>\n",
              "    </tr>\n",
              "    <tr>\n",
              "      <th>2</th>\n",
              "      <td>Roomie in 5er WG</td>\n",
              "      <td>Zimmer in 5er WG</td>\n",
              "      <td>€ 430,-</td>\n",
              "      <td>(inkl. BK)</td>\n",
              "      <td>13.5 m2</td>\n",
              "    </tr>\n",
              "    <tr>\n",
              "      <th>3</th>\n",
              "      <td>Schöne 3 Zimmerwohnung in Pradl als 3er WG an ...</td>\n",
              "      <td>3-Zimmer Wohnung</td>\n",
              "      <td>€ 1200,-</td>\n",
              "      <td>(inkl. BK)</td>\n",
              "      <td>64 m2</td>\n",
              "    </tr>\n",
              "    <tr>\n",
              "      <th>4</th>\n",
              "      <td>Zwischenmiete August+September, 22qm Zimmer im...</td>\n",
              "      <td>Zimmer in 3er WG</td>\n",
              "      <td>€ 440,-</td>\n",
              "      <td>(inkl. BK)</td>\n",
              "      <td>NA</td>\n",
              "    </tr>\n",
              "    <tr>\n",
              "      <th>5</th>\n",
              "      <td>1-Zi.-Wohnung mit Westbalkon in Innsbruck</td>\n",
              "      <td>Wohnung</td>\n",
              "      <td>€ 720,-</td>\n",
              "      <td>(inkl. BK)</td>\n",
              "      <td>35 m2</td>\n",
              "    </tr>\n",
              "    <tr>\n",
              "      <th>6</th>\n",
              "      <td>„Zimmer in Veggi-WG ;-) in Arzl“</td>\n",
              "      <td>Zimmer in 3er WG</td>\n",
              "      <td>€ 410,-</td>\n",
              "      <td>(inkl. BK)</td>\n",
              "      <td>18 m2</td>\n",
              "    </tr>\n",
              "    <tr>\n",
              "      <th>7</th>\n",
              "      <td>Zimmer in 2er WG fürs Wintersemester 2020/21</td>\n",
              "      <td>Zimmer in 2er WG</td>\n",
              "      <td>€ 480,-</td>\n",
              "      <td>(inkl. BK)</td>\n",
              "      <td>20 m2</td>\n",
              "    </tr>\n",
              "    <tr>\n",
              "      <th>8</th>\n",
              "      <td>Helle 2- Zimmerwohnung mit Balkon – Uninähe</td>\n",
              "      <td>2-Zimmer Wohnung</td>\n",
              "      <td>€ 1080,-</td>\n",
              "      <td>(inkl. BK)</td>\n",
              "      <td>55 m2</td>\n",
              "    </tr>\n",
              "    <tr>\n",
              "      <th>9</th>\n",
              "      <td>12 qm-Zimmer im grünen Saggen (5er-WG)</td>\n",
              "      <td>Zimmer in WG</td>\n",
              "      <td>€ 328,50</td>\n",
              "      <td>(inkl. BK)</td>\n",
              "      <td>12 m2</td>\n",
              "    </tr>\n",
              "    <tr>\n",
              "      <th>10</th>\n",
              "      <td>Helle Garconniere mit Süd-Ausrichtung</td>\n",
              "      <td>Garçonnière</td>\n",
              "      <td>€ 600,-</td>\n",
              "      <td>(inkl. BK)</td>\n",
              "      <td>17 m2</td>\n",
              "    </tr>\n",
              "    <tr>\n",
              "      <th>11</th>\n",
              "      <td>Untervermietung einer 2-geschossigen Architekt...</td>\n",
              "      <td>3-Zimmer Wohnung</td>\n",
              "      <td>€ 1200,-</td>\n",
              "      <td>(inkl. BK)</td>\n",
              "      <td>65 m2</td>\n",
              "    </tr>\n",
              "    <tr>\n",
              "      <th>12</th>\n",
              "      <td>Zimmer in 2er WG. MIETE</td>\n",
              "      <td>Zimmer in 2er WG</td>\n",
              "      <td>€ 500,-</td>\n",
              "      <td>(inkl. BK)</td>\n",
              "      <td>64 m2</td>\n",
              "    </tr>\n",
              "    <tr>\n",
              "      <th>13</th>\n",
              "      <td>Tiefgaragenabstellplatz – Mariahilfpark 2</td>\n",
              "      <td>Autoabstellplatz</td>\n",
              "      <td>€ 97,-</td>\n",
              "      <td>(inkl. BK)</td>\n",
              "      <td>11 m2</td>\n",
              "    </tr>\n",
              "    <tr>\n",
              "      <th>14</th>\n",
              "      <td>Tiefgaragenplatz</td>\n",
              "      <td>Autoabstellplatz</td>\n",
              "      <td>€ 100,00</td>\n",
              "      <td>(inkl. BK)</td>\n",
              "      <td>NA</td>\n",
              "    </tr>\n",
              "    <tr>\n",
              "      <th>15</th>\n",
              "      <td>Zimmer in 2er WG</td>\n",
              "      <td>Zimmer in 2er WG</td>\n",
              "      <td>€ 481,33</td>\n",
              "      <td>(inkl. BK)</td>\n",
              "      <td>50 m2</td>\n",
              "    </tr>\n",
              "    <tr>\n",
              "      <th>16</th>\n",
              "      <td>Schöne 2 Zimmerwohnung mit Garten in Innsbruck...</td>\n",
              "      <td>2-Zimmer Wohnung</td>\n",
              "      <td>€ 550,-</td>\n",
              "      <td>(inkl. BK)</td>\n",
              "      <td>70 m2</td>\n",
              "    </tr>\n",
              "    <tr>\n",
              "      <th>17</th>\n",
              "      <td>ZENTRALER PARKPLATZ zu vermieten!</td>\n",
              "      <td>Autoabstellplatz</td>\n",
              "      <td>€ 100,-</td>\n",
              "      <td>(inkl. BK)</td>\n",
              "      <td>NA</td>\n",
              "    </tr>\n",
              "    <tr>\n",
              "      <th>18</th>\n",
              "      <td>Sonnige 3-Zimmer-Wohnung in Kematen, WG-tauglich</td>\n",
              "      <td>3-Zimmer Wohnung</td>\n",
              "      <td>€ 1000,-</td>\n",
              "      <td>(inkl. BK)</td>\n",
              "      <td>79.09 m2</td>\n",
              "    </tr>\n",
              "    <tr>\n",
              "      <th>19</th>\n",
              "      <td>20 m² Zimmer in 3er WG nahe Westbahnhof (Wilte...</td>\n",
              "      <td>Zimmer in 3er WG</td>\n",
              "      <td>€ 435,-</td>\n",
              "      <td>(inkl. BK)</td>\n",
              "      <td>20 m2</td>\n",
              "    </tr>\n",
              "    <tr>\n",
              "      <th>20</th>\n",
              "      <td>Ich biete Privatzimmer mit Balkon, Dusche, Toi...</td>\n",
              "      <td>Zimmer in 3er WG</td>\n",
              "      <td>€ 400,-</td>\n",
              "      <td>(inkl. BK)</td>\n",
              "      <td>26 m2</td>\n",
              "    </tr>\n",
              "  </tbody>\n",
              "</table>\n",
              "</div>"
            ],
            "text/plain": [
              "                                                title  ...      area\n",
              "0         2.Zimmer.Wohnung.Über den Dächern der Stadt  ...     63 m2\n",
              "1             Gemütliche Bleibe in Sportlicher 3er WG  ...      8 m2\n",
              "2                                    Roomie in 5er WG  ...   13.5 m2\n",
              "3   Schöne 3 Zimmerwohnung in Pradl als 3er WG an ...  ...     64 m2\n",
              "4   Zwischenmiete August+September, 22qm Zimmer im...  ...        NA\n",
              "5           1-Zi.-Wohnung mit Westbalkon in Innsbruck  ...     35 m2\n",
              "6                    „Zimmer in Veggi-WG ;-) in Arzl“  ...     18 m2\n",
              "7        Zimmer in 2er WG fürs Wintersemester 2020/21  ...     20 m2\n",
              "8         Helle 2- Zimmerwohnung mit Balkon – Uninähe  ...     55 m2\n",
              "9              12 qm-Zimmer im grünen Saggen (5er-WG)  ...     12 m2\n",
              "10              Helle Garconniere mit Süd-Ausrichtung  ...     17 m2\n",
              "11  Untervermietung einer 2-geschossigen Architekt...  ...     65 m2\n",
              "12                            Zimmer in 2er WG. MIETE  ...     64 m2\n",
              "13          Tiefgaragenabstellplatz – Mariahilfpark 2  ...     11 m2\n",
              "14                                   Tiefgaragenplatz  ...        NA\n",
              "15                                   Zimmer in 2er WG  ...     50 m2\n",
              "16  Schöne 2 Zimmerwohnung mit Garten in Innsbruck...  ...     70 m2\n",
              "17                  ZENTRALER PARKPLATZ zu vermieten!  ...        NA\n",
              "18   Sonnige 3-Zimmer-Wohnung in Kematen, WG-tauglich  ...  79.09 m2\n",
              "19  20 m² Zimmer in 3er WG nahe Westbahnhof (Wilte...  ...     20 m2\n",
              "20  Ich biete Privatzimmer mit Balkon, Dusche, Toi...  ...     26 m2\n",
              "\n",
              "[21 rows x 5 columns]"
            ]
          },
          "metadata": {
            "tags": []
          },
          "execution_count": 130
        }
      ]
    },
    {
      "cell_type": "code",
      "metadata": {
        "id": "vdj9JrATJc84",
        "colab_type": "code",
        "colab": {}
      },
      "source": [
        ""
      ],
      "execution_count": null,
      "outputs": []
    }
  ]
}